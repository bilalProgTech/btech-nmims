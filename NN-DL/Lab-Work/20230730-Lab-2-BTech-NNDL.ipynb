{
  "nbformat": 4,
  "nbformat_minor": 0,
  "metadata": {
    "colab": {
      "provenance": [],
      "authorship_tag": "ABX9TyPLM193K5unxdyAX+hbCi62",
      "include_colab_link": true
    },
    "kernelspec": {
      "name": "python3",
      "display_name": "Python 3"
    },
    "language_info": {
      "name": "python"
    }
  },
  "cells": [
    {
      "cell_type": "markdown",
      "metadata": {
        "id": "view-in-github",
        "colab_type": "text"
      },
      "source": [
        "<a href=\"https://colab.research.google.com/github/bilalProgTech/btech-nmims/blob/master/NN-DL/Lab-Work/20230730-Lab-2-BTech-NNDL.ipynb\" target=\"_parent\"><img src=\"https://colab.research.google.com/assets/colab-badge.svg\" alt=\"Open In Colab\"/></a>"
      ]
    },
    {
      "cell_type": "code",
      "source": [
        "import os\n",
        "os.environ['KAGGLE_CONFIG_DIR']='/content'\n",
        "!kaggle datasets download -d kmader/skin-cancer-mnist-ham10000 -f hmnist_28_28_RGB.csv"
      ],
      "metadata": {
        "id": "Fe2wyIMPv9w4"
      },
      "execution_count": null,
      "outputs": []
    },
    {
      "cell_type": "code",
      "source": [
        "!unzip *.zip"
      ],
      "metadata": {
        "id": "i8qF0x8dwf-e"
      },
      "execution_count": null,
      "outputs": []
    },
    {
      "cell_type": "code",
      "source": [
        "import tensorflow as tf\n",
        "import numpy as np\n",
        "import pandas as pd\n",
        "import random\n",
        "import matplotlib.pyplot as plt\n",
        "%matplotlib inline\n",
        "from sklearn.model_selection import train_test_split"
      ],
      "metadata": {
        "id": "bG08YxEBqAyF"
      },
      "execution_count": null,
      "outputs": []
    },
    {
      "cell_type": "markdown",
      "source": [
        "# Computer Vision using DNN"
      ],
      "metadata": {
        "id": "u97VWAnU3dyS"
      }
    },
    {
      "cell_type": "markdown",
      "source": [
        "    'Actinic keratoses':0,\n",
        "    'Basal cell carcinoma':1,\n",
        "    'Benign keratosis-like lesions':2,\n",
        "    'Dermatofibroma':3,\n",
        "    'Melanocytic nevi':4,\n",
        "    'Vascular lesions':5,\n",
        "    'Melanoma':6,"
      ],
      "metadata": {
        "id": "9JiE-bEV1csM"
      }
    },
    {
      "cell_type": "code",
      "source": [
        "data = pd.read_csv('/content/hmnist_28_28_RGB.csv')\n",
        "data.head()"
      ],
      "metadata": {
        "id": "0fuhDCfYxUK6"
      },
      "execution_count": null,
      "outputs": []
    },
    {
      "cell_type": "code",
      "source": [
        "label={\n",
        "    0: 'Actinic keratoses',\n",
        "    1: 'Basal cell carcinoma',\n",
        "    2: 'Benign keratosis-like lesions',\n",
        "    3: 'Dermatofibroma',\n",
        "    4: 'Melanocytic nevi',\n",
        "    5: 'Vascular lesions',\n",
        "    6: 'Melanoma',\n",
        "}"
      ],
      "metadata": {
        "id": "kdrKm1wRxUGK"
      },
      "execution_count": null,
      "outputs": []
    },
    {
      "cell_type": "code",
      "source": [
        "data.shape"
      ],
      "metadata": {
        "id": "yfKY7CYY1fiQ"
      },
      "execution_count": null,
      "outputs": []
    },
    {
      "cell_type": "code",
      "source": [
        "data['label'].value_counts()"
      ],
      "metadata": {
        "id": "rfATTEx61i0c"
      },
      "execution_count": null,
      "outputs": []
    },
    {
      "cell_type": "code",
      "source": [
        "X = data.drop(['label'], axis=1)\n",
        "y = data['label']\n",
        "training_images, testing_images, training_labels, testing_labels = train_test_split(X, y, test_size=0.20, shuffle=True)"
      ],
      "metadata": {
        "id": "kDr1OQjm1sGu"
      },
      "execution_count": null,
      "outputs": []
    },
    {
      "cell_type": "code",
      "source": [
        "training_images.shape"
      ],
      "metadata": {
        "id": "ua2q-Z5FqAox"
      },
      "execution_count": null,
      "outputs": []
    },
    {
      "cell_type": "code",
      "source": [
        "training_labels.shape"
      ],
      "metadata": {
        "id": "TqGWuIgaqAmC"
      },
      "execution_count": null,
      "outputs": []
    },
    {
      "cell_type": "code",
      "source": [
        "training_images = training_images / 255\n",
        "testing_images = testing_images / 255"
      ],
      "metadata": {
        "id": "pPIrT3VGqAa9"
      },
      "execution_count": null,
      "outputs": []
    },
    {
      "cell_type": "code",
      "source": [
        "tf.keras.backend.clear_session()\n",
        "model = tf.keras.Sequential([\n",
        "                             tf.keras.layers.InputLayer(input_shape=(X.shape[1])),\n",
        "                             tf.keras.layers.Flatten(),\n",
        "                             tf.keras.layers.Dense(128, activation='relu'),\n",
        "                             tf.keras.layers.Dense(len(np.unique(training_labels)), activation='softmax')\n",
        "])\n",
        "model.summary()"
      ],
      "metadata": {
        "id": "PqiMrNmKqAVh"
      },
      "execution_count": null,
      "outputs": []
    },
    {
      "cell_type": "code",
      "source": [
        "model.compile(optimizer='adam', loss='sparse_categorical_crossentropy', metrics=['accuracy'])"
      ],
      "metadata": {
        "id": "-7QdBkP3qASq"
      },
      "execution_count": null,
      "outputs": []
    },
    {
      "cell_type": "code",
      "source": [
        "history = model.fit(training_images, training_labels, epochs=10)"
      ],
      "metadata": {
        "id": "ExDW9Uf3qAPw"
      },
      "execution_count": null,
      "outputs": []
    },
    {
      "cell_type": "code",
      "source": [
        "prob = model.predict(testing_images)\n",
        "pred = np.argmax(prob, axis=1)"
      ],
      "metadata": {
        "id": "_JvCa-mPqAMt"
      },
      "execution_count": null,
      "outputs": []
    },
    {
      "cell_type": "code",
      "source": [
        "from sklearn.metrics import accuracy_score, log_loss, confusion_matrix"
      ],
      "metadata": {
        "id": "yq9XkwrAv-XW"
      },
      "execution_count": null,
      "outputs": []
    },
    {
      "cell_type": "code",
      "source": [
        "print(accuracy_score(testing_labels, pred))"
      ],
      "metadata": {
        "id": "_9Tab9fRv-UF"
      },
      "execution_count": null,
      "outputs": []
    },
    {
      "cell_type": "code",
      "source": [
        "print(log_loss(testing_labels, prob))"
      ],
      "metadata": {
        "id": "7l6va6Dov-RO"
      },
      "execution_count": null,
      "outputs": []
    },
    {
      "cell_type": "code",
      "source": [
        "model.evaluate(testing_images, testing_labels)"
      ],
      "metadata": {
        "id": "JeGGWUF5v-Om"
      },
      "execution_count": null,
      "outputs": []
    },
    {
      "cell_type": "code",
      "source": [
        "import seaborn as sns"
      ],
      "metadata": {
        "id": "_u3HBM_0v-Lv"
      },
      "execution_count": null,
      "outputs": []
    },
    {
      "cell_type": "code",
      "source": [
        "sns.heatmap(confusion_matrix(testing_labels, pred), annot=True, fmt='g')\n",
        "plt.show()"
      ],
      "metadata": {
        "id": "fKPCDfFFv-Iq"
      },
      "execution_count": null,
      "outputs": []
    },
    {
      "cell_type": "markdown",
      "source": [
        "# Convolution and Pooling"
      ],
      "metadata": {
        "id": "dl_tKcw_zq14"
      }
    },
    {
      "cell_type": "code",
      "source": [
        "import cv2"
      ],
      "metadata": {
        "id": "0PTAFBaPv-GA"
      },
      "execution_count": null,
      "outputs": []
    },
    {
      "cell_type": "code",
      "source": [
        "sample_matrix = np.array([[1, 1, 1, 0, 0, 1],\n",
        "                          [1, 1, 0, 0, 0, 1],\n",
        "                          [1, 1, 1, 0, 0, 1],\n",
        "                          [1, 1, 0, 0, 0, 1],\n",
        "                          [1, 1, 1, 0, 0, 1],\n",
        "                          [1, 1, 0, 0, 0, 1]])\n",
        "size_x = sample_matrix.shape[0]\n",
        "size_y = sample_matrix.shape[1]"
      ],
      "metadata": {
        "id": "tI-6LumAWK7W"
      },
      "execution_count": null,
      "outputs": []
    },
    {
      "cell_type": "code",
      "source": [
        "plt.gray()\n",
        "plt.imshow(sample_matrix)"
      ],
      "metadata": {
        "id": "Ns4ark9s8WiH"
      },
      "execution_count": null,
      "outputs": []
    },
    {
      "cell_type": "code",
      "source": [
        "filter = [[0, 1, 0], [1, -4, 1], [0, 1, 0]] # To detect edge\n",
        "weight = 1\n",
        "#filter = [ [0, -1, 0], [-1, -5, 1], [0, -1, 0]] # To sharpen the image\n",
        "#filter = [ [-1, -2, -1], [0, 0, 0], [1, 2, 1]] # To detect strong edges\n",
        "filter"
      ],
      "metadata": {
        "id": "hCjd2BaP8COd"
      },
      "execution_count": null,
      "outputs": []
    },
    {
      "cell_type": "code",
      "source": [
        "filter"
      ],
      "metadata": {
        "id": "TJlvjT16EFlG"
      },
      "execution_count": null,
      "outputs": []
    },
    {
      "cell_type": "code",
      "source": [
        "mat_transformed = np.copy(sample_matrix)"
      ],
      "metadata": {
        "id": "ombkyIii8Rlc"
      },
      "execution_count": null,
      "outputs": []
    },
    {
      "cell_type": "code",
      "source": [
        "# Convolution Code"
      ],
      "metadata": {
        "id": "_BdrJ50q8F6f"
      },
      "execution_count": null,
      "outputs": []
    },
    {
      "cell_type": "code",
      "source": [
        "plt.gray()\n",
        "plt.imshow(mat_transformed)"
      ],
      "metadata": {
        "id": "x1DPmxEa8eSO"
      },
      "execution_count": null,
      "outputs": []
    },
    {
      "cell_type": "code",
      "source": [
        "matrix = [[0 for _ in range(24)] for _ in range(24)]\n",
        "\n",
        "handwritten_two = [\n",
        "    \"000000000000000000000000\",\n",
        "    \"000000000000000000000000\",\n",
        "    \"000000000000000000000000\",\n",
        "    \"000000000000000000000000\",\n",
        "    \"000000000011111100000000\",\n",
        "    \"000000000011111100000000\",\n",
        "    \"000000000000001100000000\",\n",
        "    \"000000000000001100000000\",\n",
        "    \"000000000000001100000000\",\n",
        "    \"000000000000001100000000\",\n",
        "    \"000000000000001100000000\",\n",
        "    \"000000000000001100000000\",\n",
        "    \"000000000000011000000000\",\n",
        "    \"000000000000011000000000\",\n",
        "    \"000000000000111000000000\",\n",
        "    \"000000000001110000000000\",\n",
        "    \"000000000011100000000000\",\n",
        "    \"000000000111000000000000\",\n",
        "    \"000000001110000000000000\",\n",
        "    \"000000011100000000000000\",\n",
        "    \"000000111000000000000000\",\n",
        "    \"000001100000000000000000\",\n",
        "    \"000001111111111111000000\",\n",
        "    \"000001111111111111000000\",\n",
        "    \"000000000000000000000000\",\n",
        "]\n",
        "\n",
        "for i in range(24):\n",
        "    for j in range(24):\n",
        "        matrix[i][j] = int(handwritten_two[i][j])\n",
        "\n",
        "num_errors = 30\n",
        "for _ in range(num_errors):\n",
        "    row_idx = random.randint(0, 23)\n",
        "    col_idx = random.randint(0, 23)\n",
        "    matrix[row_idx][col_idx] = 1\n",
        "matrix = np.array(matrix)\n",
        "size_x = matrix.shape[0]\n",
        "size_y = matrix.shape[1]\n",
        "plt.gray()\n",
        "plt.imshow(matrix)"
      ],
      "metadata": {
        "id": "c4B8w_Fn87dl"
      },
      "execution_count": null,
      "outputs": []
    },
    {
      "cell_type": "code",
      "source": [
        "mat_transformed = np.copy(matrix)"
      ],
      "metadata": {
        "id": "9kWft8jj87a5"
      },
      "execution_count": null,
      "outputs": []
    },
    {
      "cell_type": "code",
      "source": [
        "# Convolution Code"
      ],
      "metadata": {
        "id": "w5xwd_uX87Yj"
      },
      "execution_count": null,
      "outputs": []
    },
    {
      "cell_type": "code",
      "source": [
        "plt.gray()\n",
        "plt.imshow(mat_transformed)"
      ],
      "metadata": {
        "id": "O--CEsIr87Vz"
      },
      "execution_count": null,
      "outputs": []
    },
    {
      "cell_type": "code",
      "source": [
        "size_x/2, size_y/2, size_x, size_y"
      ],
      "metadata": {
        "id": "3L-_WqGA9gOG"
      },
      "execution_count": null,
      "outputs": []
    },
    {
      "cell_type": "code",
      "source": [
        "# Pooling Code"
      ],
      "metadata": {
        "id": "xFvhrkdi87KY"
      },
      "execution_count": null,
      "outputs": []
    },
    {
      "cell_type": "code",
      "source": [
        "plt.gray()\n",
        "plt.imshow(pooling_image)\n",
        "plt.show()"
      ],
      "metadata": {
        "id": "ijbgpgNO9lxN"
      },
      "execution_count": null,
      "outputs": []
    },
    {
      "cell_type": "code",
      "source": [
        "img = cv2.imread('/content/input.jpg', 0)\n",
        "img.shape"
      ],
      "metadata": {
        "id": "MPdoOV1Dv-Cv"
      },
      "execution_count": null,
      "outputs": []
    },
    {
      "cell_type": "code",
      "source": [
        "plt.gray()\n",
        "plt.imshow(img)"
      ],
      "metadata": {
        "id": "JF8QcI_lv9_i"
      },
      "execution_count": null,
      "outputs": []
    },
    {
      "cell_type": "code",
      "source": [
        "img.shape"
      ],
      "metadata": {
        "id": "jYklL2ZqWYta"
      },
      "execution_count": null,
      "outputs": []
    },
    {
      "cell_type": "code",
      "source": [
        "img_transformed = np.copy(img)\n",
        "size_x = img_transformed.shape[0]\n",
        "size_y = img_transformed.shape[1]"
      ],
      "metadata": {
        "id": "aWI2cMAkqAJ8"
      },
      "execution_count": null,
      "outputs": []
    },
    {
      "cell_type": "code",
      "source": [
        "# Convolution Code"
      ],
      "metadata": {
        "id": "wQ2afrcc2Jlx"
      },
      "execution_count": null,
      "outputs": []
    },
    {
      "cell_type": "code",
      "source": [
        "plt.gray()\n",
        "plt.imshow(img_transformed)\n",
        "plt.show()"
      ],
      "metadata": {
        "id": "NlfH32R82JjD"
      },
      "execution_count": null,
      "outputs": []
    },
    {
      "cell_type": "code",
      "source": [
        "# Pooling Code"
      ],
      "metadata": {
        "id": "9OT3Mbl52JVF"
      },
      "execution_count": null,
      "outputs": []
    },
    {
      "cell_type": "code",
      "source": [
        "plt.gray()\n",
        "plt.imshow(pooling_image)\n",
        "plt.show()"
      ],
      "metadata": {
        "id": "Lpu-xTqy4Jgs"
      },
      "execution_count": null,
      "outputs": []
    },
    {
      "cell_type": "markdown",
      "source": [
        "# CNN Model in Skin Cancer MNIST"
      ],
      "metadata": {
        "id": "glJ3ZsURGAKs"
      }
    },
    {
      "cell_type": "code",
      "source": [
        "training_images.head()"
      ],
      "metadata": {
        "id": "m-3QvRnI-Q9U"
      },
      "execution_count": null,
      "outputs": []
    },
    {
      "cell_type": "code",
      "source": [
        "training_images = np.array(training_images).reshape(-1, 28, 28, 3)\n",
        "testing_images = np.array(testing_images).reshape(-1, 28, 28, 3)\n",
        "training_images.shape, testing_images.shape"
      ],
      "metadata": {
        "id": "jhDVr6jz-QhJ"
      },
      "execution_count": null,
      "outputs": []
    },
    {
      "cell_type": "code",
      "source": [
        "plt.imshow(training_images[70])\n",
        "plt.title(label[training_labels[70]])\n",
        "plt.show()"
      ],
      "metadata": {
        "id": "7sZo75nlAhus"
      },
      "execution_count": null,
      "outputs": []
    },
    {
      "cell_type": "code",
      "source": [
        "tf.keras.backend.clear_session()\n",
        "model = tf.keras.Sequential([\n",
        "                             tf.keras.layers.InputLayer(input_shape=(28, 28, 3)),\n",
        "                             tf.keras.layers.Conv2D(filters=128, kernel_size=(3, 3), activation='relu'),\n",
        "                             tf.keras.layers.MaxPooling2D(2, 2),\n",
        "                             tf.keras.layers.Conv2D(filters=64, kernel_size=(3, 3), activation='relu'),\n",
        "                             tf.keras.layers.MaxPooling2D(2, 2),\n",
        "                             tf.keras.layers.Flatten(),\n",
        "                             tf.keras.layers.Dense(32, activation='relu'),\n",
        "                             tf.keras.layers.Dense(len(np.unique(training_labels)), activation='softmax')\n",
        "])\n",
        "model.summary()"
      ],
      "metadata": {
        "id": "TGslrgrUF5n8"
      },
      "execution_count": null,
      "outputs": []
    },
    {
      "cell_type": "code",
      "source": [
        "model.compile(optimizer='adam', loss='sparse_categorical_crossentropy', metrics=['accuracy'])"
      ],
      "metadata": {
        "id": "oClMyfGyF5kk"
      },
      "execution_count": null,
      "outputs": []
    },
    {
      "cell_type": "code",
      "source": [
        "history = model.fit(training_images, training_labels, epochs=10)"
      ],
      "metadata": {
        "id": "sOLk0lbGF5hs"
      },
      "execution_count": null,
      "outputs": []
    },
    {
      "cell_type": "code",
      "source": [
        "model.evaluate(testing_images, testing_labels)"
      ],
      "metadata": {
        "id": "y7MPmB34KEJo"
      },
      "execution_count": null,
      "outputs": []
    },
    {
      "cell_type": "code",
      "source": [
        "y_prob = model.predict(testing_images)\n",
        "y_pred = np.argmax(y_prob, axis=1)\n",
        "print(accuracy_score(testing_labels, y_pred))\n",
        "print(log_loss(testing_labels, y_prob))\n",
        "sns.heatmap(confusion_matrix(testing_labels, y_pred), annot=True, fmt='g')"
      ],
      "metadata": {
        "id": "ZJ1rzseWF5e0"
      },
      "execution_count": null,
      "outputs": []
    }
  ]
}