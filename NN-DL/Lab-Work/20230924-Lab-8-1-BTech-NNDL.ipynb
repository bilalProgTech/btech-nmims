{
  "nbformat": 4,
  "nbformat_minor": 0,
  "metadata": {
    "colab": {
      "provenance": [],
      "authorship_tag": "ABX9TyMPpxQ4EgmwhvLa4SFY6Mvp",
      "include_colab_link": true
    },
    "kernelspec": {
      "name": "python3",
      "display_name": "Python 3"
    },
    "language_info": {
      "name": "python"
    },
    "accelerator": "GPU"
  },
  "cells": [
    {
      "cell_type": "markdown",
      "metadata": {
        "id": "view-in-github",
        "colab_type": "text"
      },
      "source": [
        "<a href=\"https://colab.research.google.com/github/bilalProgTech/btech-nmims/blob/master/NN-DL/Lab-Work/20230924-Lab-8-1-BTech-NNDL.ipynb\" target=\"_parent\"><img src=\"https://colab.research.google.com/assets/colab-badge.svg\" alt=\"Open In Colab\"/></a>"
      ]
    },
    {
      "cell_type": "code",
      "execution_count": null,
      "metadata": {
        "colab": {
          "base_uri": "https://localhost:8080/"
        },
        "id": "C6480yAL9geR",
        "outputId": "776bdf3c-3d5f-439d-b07f-c1278943aedb"
      },
      "outputs": [
        {
          "output_type": "stream",
          "name": "stdout",
          "text": [
            "Warning: Your Kaggle API key is readable by other users on this system! To fix this, you can run 'chmod 600 /content/kaggle.json'\n",
            "Downloading skin-cancer-malignant-vs-benign.zip to /content\n",
            "100% 324M/325M [00:17<00:00, 21.6MB/s]\n",
            "100% 325M/325M [00:17<00:00, 19.4MB/s]\n",
            "Warning: Your Kaggle API key is readable by other users on this system! To fix this, you can run 'chmod 600 /content/kaggle.json'\n",
            "Downloading keras-pretrained-models.zip to /content\n",
            "100% 943M/943M [00:51<00:00, 21.8MB/s]\n",
            "100% 943M/943M [00:51<00:00, 19.4MB/s]\n"
          ]
        }
      ],
      "source": [
        "import os\n",
        "os.environ['KAGGLE_CONFIG_DIR'] = '/content'\n",
        "!kaggle datasets download -d fanconic/skin-cancer-malignant-vs-benign\n",
        "!kaggle datasets download -d gaborfodor/keras-pretrained-models"
      ]
    },
    {
      "cell_type": "code",
      "source": [
        "!unzip skin-cancer-malignant-vs-benign.zip\n",
        "!unzip keras-pretrained-models.zip"
      ],
      "metadata": {
        "id": "w5O9EaVX-_-Z"
      },
      "execution_count": null,
      "outputs": []
    },
    {
      "cell_type": "code",
      "source": [
        "import pandas as pd\n",
        "import numpy as np\n",
        "import tensorflow as tf\n",
        "\n",
        "from IPython.display import Image, display\n",
        "\n",
        "import matplotlib.pyplot as plt\n",
        "import seaborn as sns\n",
        "\n",
        "import warnings\n",
        "warnings.filterwarnings('ignore')"
      ],
      "metadata": {
        "id": "i4_L6O8M_IaM"
      },
      "execution_count": null,
      "outputs": []
    },
    {
      "cell_type": "code",
      "source": [
        "!nvidia-smi"
      ],
      "metadata": {
        "colab": {
          "base_uri": "https://localhost:8080/"
        },
        "id": "VLuC07kK_z7b",
        "outputId": "7215b141-cafc-4ba9-dabe-7772a4335558"
      },
      "execution_count": null,
      "outputs": [
        {
          "output_type": "stream",
          "name": "stdout",
          "text": [
            "Sat Sep 23 11:06:49 2023       \n",
            "+-----------------------------------------------------------------------------+\n",
            "| NVIDIA-SMI 525.105.17   Driver Version: 525.105.17   CUDA Version: 12.0     |\n",
            "|-------------------------------+----------------------+----------------------+\n",
            "| GPU  Name        Persistence-M| Bus-Id        Disp.A | Volatile Uncorr. ECC |\n",
            "| Fan  Temp  Perf  Pwr:Usage/Cap|         Memory-Usage | GPU-Util  Compute M. |\n",
            "|                               |                      |               MIG M. |\n",
            "|===============================+======================+======================|\n",
            "|   0  Tesla T4            Off  | 00000000:00:04.0 Off |                    0 |\n",
            "| N/A   47C    P8     9W /  70W |      0MiB / 15360MiB |      0%      Default |\n",
            "|                               |                      |                  N/A |\n",
            "+-------------------------------+----------------------+----------------------+\n",
            "                                                                               \n",
            "+-----------------------------------------------------------------------------+\n",
            "| Processes:                                                                  |\n",
            "|  GPU   GI   CI        PID   Type   Process name                  GPU Memory |\n",
            "|        ID   ID                                                   Usage      |\n",
            "|=============================================================================|\n",
            "|  No running processes found                                                 |\n",
            "+-----------------------------------------------------------------------------+\n"
          ]
        }
      ]
    },
    {
      "cell_type": "code",
      "source": [
        "display(Image('/content/train/malignant/10.jpg'))"
      ],
      "metadata": {
        "colab": {
          "base_uri": "https://localhost:8080/",
          "height": 241
        },
        "id": "0zf_clvd_4kr",
        "outputId": "39dab68b-1698-4138-9997-a0066203cbc4"
      },
      "execution_count": null,
      "outputs": [
        {
          "output_type": "display_data",
          "data": {
            "image/jpeg": "[encoded data removed]",
            "text/plain": [
              "<IPython.core.display.Image object>"
            ]
          },
          "metadata": {}
        }
      ]
    },
    {
      "cell_type": "code",
      "source": [
        "display(Image('/content/train/benign/100.jpg'))"
      ],
      "metadata": {
        "colab": {
          "base_uri": "https://localhost:8080/",
          "height": 241
        },
        "id": "JwajTRj0uOXc",
        "outputId": "93b094b4-b0cb-4929-a669-8273c83fa541"
      },
      "execution_count": null,
      "outputs": [
        {
          "output_type": "display_data",
          "data": {
            "image/jpeg": "[encoded data removed]",
            "text/plain": [
              "<IPython.core.display.Image object>"
            ]
          },
          "metadata": {}
        }
      ]
    },
    {
      "cell_type": "code",
      "source": [
        "import os"
      ],
      "metadata": {
        "id": "q8RSUz1uSQ17"
      },
      "execution_count": null,
      "outputs": []
    },
    {
      "cell_type": "code",
      "source": [
        "files = []\n",
        "for dirname, _, filenames in os.walk('/content/train'):\n",
        "    for filename in filenames:\n",
        "        files.append(os.path.join(dirname, filename))\n",
        "\n",
        "train = pd.DataFrame({'filename': files})\n",
        "train['class'] = train['filename'].str.split('/').str[-2]\n",
        "train = train.sample(frac=1)\n",
        "train = train.reset_index(drop=True)\n",
        "train.head()"
      ],
      "metadata": {
        "colab": {
          "base_uri": "https://localhost:8080/",
          "height": 206
        },
        "id": "Rrh_6ISUSGhJ",
        "outputId": "75bbff96-6825-406d-a5b8-1e689351c934"
      },
      "execution_count": null,
      "outputs": [
        {
          "output_type": "execute_result",
          "data": {
            "text/plain": [
              "                           filename      class\n",
              "0     /content/train/benign/601.jpg     benign\n",
              "1    /content/train/benign/1156.jpg     benign\n",
              "2  /content/train/malignant/441.jpg  malignant\n",
              "3     /content/train/benign/617.jpg     benign\n",
              "4     /content/train/benign/416.jpg     benign"
            ],
            "text/html": [
              "\n",
              "  <div id=\"df-7a3e4109-d3d1-4d55-8a7c-07fd78abb082\" class=\"colab-df-container\">\n",
              "    <div>\n",
              "<style scoped>\n",
              "    .dataframe tbody tr th:only-of-type {\n",
              "        vertical-align: middle;\n",
              "    }\n",
              "\n",
              "    .dataframe tbody tr th {\n",
              "        vertical-align: top;\n",
              "    }\n",
              "\n",
              "    .dataframe thead th {\n",
              "        text-align: right;\n",
              "    }\n",
              "</style>\n",
              "<table border=\"1\" class=\"dataframe\">\n",
              "  <thead>\n",
              "    <tr style=\"text-align: right;\">\n",
              "      <th></th>\n",
              "      <th>filename</th>\n",
              "      <th>class</th>\n",
              "    </tr>\n",
              "  </thead>\n",
              "  <tbody>\n",
              "    <tr>\n",
              "      <th>0</th>\n",
              "      <td>/content/train/benign/601.jpg</td>\n",
              "      <td>benign</td>\n",
              "    </tr>\n",
              "    <tr>\n",
              "      <th>1</th>\n",
              "      <td>/content/train/benign/1156.jpg</td>\n",
              "      <td>benign</td>\n",
              "    </tr>\n",
              "    <tr>\n",
              "      <th>2</th>\n",
              "      <td>/content/train/malignant/441.jpg</td>\n",
              "      <td>malignant</td>\n",
              "    </tr>\n",
              "    <tr>\n",
              "      <th>3</th>\n",
              "      <td>/content/train/benign/617.jpg</td>\n",
              "      <td>benign</td>\n",
              "    </tr>\n",
              "    <tr>\n",
              "      <th>4</th>\n",
              "      <td>/content/train/benign/416.jpg</td>\n",
              "      <td>benign</td>\n",
              "    </tr>\n",
              "  </tbody>\n",
              "</table>\n",
              "</div>\n",
              "    <div class=\"colab-df-buttons\">\n",
              "\n",
              "  <div class=\"colab-df-container\">\n",
              "    <button class=\"colab-df-convert\" onclick=\"convertToInteractive('df-7a3e4109-d3d1-4d55-8a7c-07fd78abb082')\"\n",
              "            title=\"Convert this dataframe to an interactive table.\"\n",
              "            style=\"display:none;\">\n",
              "\n",
              "  <svg xmlns=\"http://www.w3.org/2000/svg\" height=\"24px\" viewBox=\"0 -960 960 960\">\n",
              "    <path d=\"M120-120v-720h720v720H120Zm60-500h600v-160H180v160Zm220 220h160v-160H400v160Zm0 220h160v-160H400v160ZM180-400h160v-160H180v160Zm440 0h160v-160H620v160ZM180-180h160v-160H180v160Zm440 0h160v-160H620v160Z\"/>\n",
              "  </svg>\n",
              "    </button>\n",
              "\n",
              "  <style>\n",
              "    .colab-df-container {\n",
              "      display:flex;\n",
              "      gap: 12px;\n",
              "    }\n",
              "\n",
              "    .colab-df-convert {\n",
              "      background-color: #E8F0FE;\n",
              "      border: none;\n",
              "      border-radius: 50%;\n",
              "      cursor: pointer;\n",
              "      display: none;\n",
              "      fill: #1967D2;\n",
              "      height: 32px;\n",
              "      padding: 0 0 0 0;\n",
              "      width: 32px;\n",
              "    }\n",
              "\n",
              "    .colab-df-convert:hover {\n",
              "      background-color: #E2EBFA;\n",
              "      box-shadow: 0px 1px 2px rgba(60, 64, 67, 0.3), 0px 1px 3px 1px rgba(60, 64, 67, 0.15);\n",
              "      fill: #174EA6;\n",
              "    }\n",
              "\n",
              "    .colab-df-buttons div {\n",
              "      margin-bottom: 4px;\n",
              "    }\n",
              "\n",
              "    [theme=dark] .colab-df-convert {\n",
              "      background-color: #3B4455;\n",
              "      fill: #D2E3FC;\n",
              "    }\n",
              "\n",
              "    [theme=dark] .colab-df-convert:hover {\n",
              "      background-color: #434B5C;\n",
              "      box-shadow: 0px 1px 3px 1px rgba(0, 0, 0, 0.15);\n",
              "      filter: drop-shadow(0px 1px 2px rgba(0, 0, 0, 0.3));\n",
              "      fill: #FFFFFF;\n",
              "    }\n",
              "  </style>\n",
              "\n",
              "    <script>\n",
              "      const buttonEl =\n",
              "        document.querySelector('#df-7a3e4109-d3d1-4d55-8a7c-07fd78abb082 button.colab-df-convert');\n",
              "      buttonEl.style.display =\n",
              "        google.colab.kernel.accessAllowed ? 'block' : 'none';\n",
              "\n",
              "      async function convertToInteractive(key) {\n",
              "        const element = document.querySelector('#df-7a3e4109-d3d1-4d55-8a7c-07fd78abb082');\n",
              "        const dataTable =\n",
              "          await google.colab.kernel.invokeFunction('convertToInteractive',\n",
              "                                                    [key], {});\n",
              "        if (!dataTable) return;\n",
              "\n",
              "        const docLinkHtml = 'Like what you see? Visit the ' +\n",
              "          '<a target=\"_blank\" href=https://colab.research.google.com/notebooks/data_table.ipynb>data table notebook</a>'\n",
              "          + ' to learn more about interactive tables.';\n",
              "        element.innerHTML = '';\n",
              "        dataTable['output_type'] = 'display_data';\n",
              "        await google.colab.output.renderOutput(dataTable, element);\n",
              "        const docLink = document.createElement('div');\n",
              "        docLink.innerHTML = docLinkHtml;\n",
              "        element.appendChild(docLink);\n",
              "      }\n",
              "    </script>\n",
              "  </div>\n",
              "\n",
              "\n",
              "<div id=\"df-96ab6c5c-1bc0-43d6-9d29-4ccb58949cec\">\n",
              "  <button class=\"colab-df-quickchart\" onclick=\"quickchart('df-96ab6c5c-1bc0-43d6-9d29-4ccb58949cec')\"\n",
              "            title=\"Suggest charts.\"\n",
              "            style=\"display:none;\">\n",
              "\n",
              "<svg xmlns=\"http://www.w3.org/2000/svg\" height=\"24px\"viewBox=\"0 0 24 24\"\n",
              "     width=\"24px\">\n",
              "    <g>\n",
              "        <path d=\"M19 3H5c-1.1 0-2 .9-2 2v14c0 1.1.9 2 2 2h14c1.1 0 2-.9 2-2V5c0-1.1-.9-2-2-2zM9 17H7v-7h2v7zm4 0h-2V7h2v10zm4 0h-2v-4h2v4z\"/>\n",
              "    </g>\n",
              "</svg>\n",
              "  </button>\n",
              "\n",
              "<style>\n",
              "  .colab-df-quickchart {\n",
              "      --bg-color: #E8F0FE;\n",
              "      --fill-color: #1967D2;\n",
              "      --hover-bg-color: #E2EBFA;\n",
              "      --hover-fill-color: #174EA6;\n",
              "      --disabled-fill-color: #AAA;\n",
              "      --disabled-bg-color: #DDD;\n",
              "  }\n",
              "\n",
              "  [theme=dark] .colab-df-quickchart {\n",
              "      --bg-color: #3B4455;\n",
              "      --fill-color: #D2E3FC;\n",
              "      --hover-bg-color: #434B5C;\n",
              "      --hover-fill-color: #FFFFFF;\n",
              "      --disabled-bg-color: #3B4455;\n",
              "      --disabled-fill-color: #666;\n",
              "  }\n",
              "\n",
              "  .colab-df-quickchart {\n",
              "    background-color: var(--bg-color);\n",
              "    border: none;\n",
              "    border-radius: 50%;\n",
              "    cursor: pointer;\n",
              "    display: none;\n",
              "    fill: var(--fill-color);\n",
              "    height: 32px;\n",
              "    padding: 0;\n",
              "    width: 32px;\n",
              "  }\n",
              "\n",
              "  .colab-df-quickchart:hover {\n",
              "    background-color: var(--hover-bg-color);\n",
              "    box-shadow: 0 1px 2px rgba(60, 64, 67, 0.3), 0 1px 3px 1px rgba(60, 64, 67, 0.15);\n",
              "    fill: var(--button-hover-fill-color);\n",
              "  }\n",
              "\n",
              "  .colab-df-quickchart-complete:disabled,\n",
              "  .colab-df-quickchart-complete:disabled:hover {\n",
              "    background-color: var(--disabled-bg-color);\n",
              "    fill: var(--disabled-fill-color);\n",
              "    box-shadow: none;\n",
              "  }\n",
              "\n",
              "  .colab-df-spinner {\n",
              "    border: 2px solid var(--fill-color);\n",
              "    border-color: transparent;\n",
              "    border-bottom-color: var(--fill-color);\n",
              "    animation:\n",
              "      spin 1s steps(1) infinite;\n",
              "  }\n",
              "\n",
              "  @keyframes spin {\n",
              "    0% {\n",
              "      border-color: transparent;\n",
              "      border-bottom-color: var(--fill-color);\n",
              "      border-left-color: var(--fill-color);\n",
              "    }\n",
              "    20% {\n",
              "      border-color: transparent;\n",
              "      border-left-color: var(--fill-color);\n",
              "      border-top-color: var(--fill-color);\n",
              "    }\n",
              "    30% {\n",
              "      border-color: transparent;\n",
              "      border-left-color: var(--fill-color);\n",
              "      border-top-color: var(--fill-color);\n",
              "      border-right-color: var(--fill-color);\n",
              "    }\n",
              "    40% {\n",
              "      border-color: transparent;\n",
              "      border-right-color: var(--fill-color);\n",
              "      border-top-color: var(--fill-color);\n",
              "    }\n",
              "    60% {\n",
              "      border-color: transparent;\n",
              "      border-right-color: var(--fill-color);\n",
              "    }\n",
              "    80% {\n",
              "      border-color: transparent;\n",
              "      border-right-color: var(--fill-color);\n",
              "      border-bottom-color: var(--fill-color);\n",
              "    }\n",
              "    90% {\n",
              "      border-color: transparent;\n",
              "      border-bottom-color: var(--fill-color);\n",
              "    }\n",
              "  }\n",
              "</style>\n",
              "\n",
              "  <script>\n",
              "    async function quickchart(key) {\n",
              "      const quickchartButtonEl =\n",
              "        document.querySelector('#' + key + ' button');\n",
              "      quickchartButtonEl.disabled = true;  // To prevent multiple clicks.\n",
              "      quickchartButtonEl.classList.add('colab-df-spinner');\n",
              "      try {\n",
              "        const charts = await google.colab.kernel.invokeFunction(\n",
              "            'suggestCharts', [key], {});\n",
              "      } catch (error) {\n",
              "        console.error('Error during call to suggestCharts:', error);\n",
              "      }\n",
              "      quickchartButtonEl.classList.remove('colab-df-spinner');\n",
              "      quickchartButtonEl.classList.add('colab-df-quickchart-complete');\n",
              "    }\n",
              "    (() => {\n",
              "      let quickchartButtonEl =\n",
              "        document.querySelector('#df-96ab6c5c-1bc0-43d6-9d29-4ccb58949cec button');\n",
              "      quickchartButtonEl.style.display =\n",
              "        google.colab.kernel.accessAllowed ? 'block' : 'none';\n",
              "    })();\n",
              "  </script>\n",
              "</div>\n",
              "    </div>\n",
              "  </div>\n"
            ]
          },
          "metadata": {},
          "execution_count": 13
        }
      ]
    },
    {
      "cell_type": "code",
      "source": [
        "files = []\n",
        "for dirname, _, filenames in os.walk('/content/test'):\n",
        "    for filename in filenames:\n",
        "        files.append(os.path.join(dirname, filename))\n",
        "\n",
        "test = pd.DataFrame({'filename': files})\n",
        "test['class'] = test['filename'].str.split('/').str[-2]\n",
        "test = test.sample(frac=1)\n",
        "test = test.reset_index(drop=True)\n",
        "test.head()"
      ],
      "metadata": {
        "colab": {
          "base_uri": "https://localhost:8080/",
          "height": 206
        },
        "id": "Ls8VQFB_una6",
        "outputId": "fccaef9b-3296-4d94-9c9f-2bfde9e8ae57"
      },
      "execution_count": null,
      "outputs": [
        {
          "output_type": "execute_result",
          "data": {
            "text/plain": [
              "                           filename      class\n",
              "0      /content/test/benign/226.jpg     benign\n",
              "1   /content/test/malignant/519.jpg  malignant\n",
              "2     /content/test/benign/1231.jpg     benign\n",
              "3  /content/test/malignant/1012.jpg  malignant\n",
              "4     /content/test/benign/1139.jpg     benign"
            ],
            "text/html": [
              "\n",
              "  <div id=\"df-d7039fba-6666-468d-a75a-1455a4c5d350\" class=\"colab-df-container\">\n",
              "    <div>\n",
              "<style scoped>\n",
              "    .dataframe tbody tr th:only-of-type {\n",
              "        vertical-align: middle;\n",
              "    }\n",
              "\n",
              "    .dataframe tbody tr th {\n",
              "        vertical-align: top;\n",
              "    }\n",
              "\n",
              "    .dataframe thead th {\n",
              "        text-align: right;\n",
              "    }\n",
              "</style>\n",
              "<table border=\"1\" class=\"dataframe\">\n",
              "  <thead>\n",
              "    <tr style=\"text-align: right;\">\n",
              "      <th></th>\n",
              "      <th>filename</th>\n",
              "      <th>class</th>\n",
              "    </tr>\n",
              "  </thead>\n",
              "  <tbody>\n",
              "    <tr>\n",
              "      <th>0</th>\n",
              "      <td>/content/test/benign/226.jpg</td>\n",
              "      <td>benign</td>\n",
              "    </tr>\n",
              "    <tr>\n",
              "      <th>1</th>\n",
              "      <td>/content/test/malignant/519.jpg</td>\n",
              "      <td>malignant</td>\n",
              "    </tr>\n",
              "    <tr>\n",
              "      <th>2</th>\n",
              "      <td>/content/test/benign/1231.jpg</td>\n",
              "      <td>benign</td>\n",
              "    </tr>\n",
              "    <tr>\n",
              "      <th>3</th>\n",
              "      <td>/content/test/malignant/1012.jpg</td>\n",
              "      <td>malignant</td>\n",
              "    </tr>\n",
              "    <tr>\n",
              "      <th>4</th>\n",
              "      <td>/content/test/benign/1139.jpg</td>\n",
              "      <td>benign</td>\n",
              "    </tr>\n",
              "  </tbody>\n",
              "</table>\n",
              "</div>\n",
              "    <div class=\"colab-df-buttons\">\n",
              "\n",
              "  <div class=\"colab-df-container\">\n",
              "    <button class=\"colab-df-convert\" onclick=\"convertToInteractive('df-d7039fba-6666-468d-a75a-1455a4c5d350')\"\n",
              "            title=\"Convert this dataframe to an interactive table.\"\n",
              "            style=\"display:none;\">\n",
              "\n",
              "  <svg xmlns=\"http://www.w3.org/2000/svg\" height=\"24px\" viewBox=\"0 -960 960 960\">\n",
              "    <path d=\"M120-120v-720h720v720H120Zm60-500h600v-160H180v160Zm220 220h160v-160H400v160Zm0 220h160v-160H400v160ZM180-400h160v-160H180v160Zm440 0h160v-160H620v160ZM180-180h160v-160H180v160Zm440 0h160v-160H620v160Z\"/>\n",
              "  </svg>\n",
              "    </button>\n",
              "\n",
              "  <style>\n",
              "    .colab-df-container {\n",
              "      display:flex;\n",
              "      gap: 12px;\n",
              "    }\n",
              "\n",
              "    .colab-df-convert {\n",
              "      background-color: #E8F0FE;\n",
              "      border: none;\n",
              "      border-radius: 50%;\n",
              "      cursor: pointer;\n",
              "      display: none;\n",
              "      fill: #1967D2;\n",
              "      height: 32px;\n",
              "      padding: 0 0 0 0;\n",
              "      width: 32px;\n",
              "    }\n",
              "\n",
              "    .colab-df-convert:hover {\n",
              "      background-color: #E2EBFA;\n",
              "      box-shadow: 0px 1px 2px rgba(60, 64, 67, 0.3), 0px 1px 3px 1px rgba(60, 64, 67, 0.15);\n",
              "      fill: #174EA6;\n",
              "    }\n",
              "\n",
              "    .colab-df-buttons div {\n",
              "      margin-bottom: 4px;\n",
              "    }\n",
              "\n",
              "    [theme=dark] .colab-df-convert {\n",
              "      background-color: #3B4455;\n",
              "      fill: #D2E3FC;\n",
              "    }\n",
              "\n",
              "    [theme=dark] .colab-df-convert:hover {\n",
              "      background-color: #434B5C;\n",
              "      box-shadow: 0px 1px 3px 1px rgba(0, 0, 0, 0.15);\n",
              "      filter: drop-shadow(0px 1px 2px rgba(0, 0, 0, 0.3));\n",
              "      fill: #FFFFFF;\n",
              "    }\n",
              "  </style>\n",
              "\n",
              "    <script>\n",
              "      const buttonEl =\n",
              "        document.querySelector('#df-d7039fba-6666-468d-a75a-1455a4c5d350 button.colab-df-convert');\n",
              "      buttonEl.style.display =\n",
              "        google.colab.kernel.accessAllowed ? 'block' : 'none';\n",
              "\n",
              "      async function convertToInteractive(key) {\n",
              "        const element = document.querySelector('#df-d7039fba-6666-468d-a75a-1455a4c5d350');\n",
              "        const dataTable =\n",
              "          await google.colab.kernel.invokeFunction('convertToInteractive',\n",
              "                                                    [key], {});\n",
              "        if (!dataTable) return;\n",
              "\n",
              "        const docLinkHtml = 'Like what you see? Visit the ' +\n",
              "          '<a target=\"_blank\" href=https://colab.research.google.com/notebooks/data_table.ipynb>data table notebook</a>'\n",
              "          + ' to learn more about interactive tables.';\n",
              "        element.innerHTML = '';\n",
              "        dataTable['output_type'] = 'display_data';\n",
              "        await google.colab.output.renderOutput(dataTable, element);\n",
              "        const docLink = document.createElement('div');\n",
              "        docLink.innerHTML = docLinkHtml;\n",
              "        element.appendChild(docLink);\n",
              "      }\n",
              "    </script>\n",
              "  </div>\n",
              "\n",
              "\n",
              "<div id=\"df-f0b119ea-c9c1-4245-b326-13ec0a9fed09\">\n",
              "  <button class=\"colab-df-quickchart\" onclick=\"quickchart('df-f0b119ea-c9c1-4245-b326-13ec0a9fed09')\"\n",
              "            title=\"Suggest charts.\"\n",
              "            style=\"display:none;\">\n",
              "\n",
              "<svg xmlns=\"http://www.w3.org/2000/svg\" height=\"24px\"viewBox=\"0 0 24 24\"\n",
              "     width=\"24px\">\n",
              "    <g>\n",
              "        <path d=\"M19 3H5c-1.1 0-2 .9-2 2v14c0 1.1.9 2 2 2h14c1.1 0 2-.9 2-2V5c0-1.1-.9-2-2-2zM9 17H7v-7h2v7zm4 0h-2V7h2v10zm4 0h-2v-4h2v4z\"/>\n",
              "    </g>\n",
              "</svg>\n",
              "  </button>\n",
              "\n",
              "<style>\n",
              "  .colab-df-quickchart {\n",
              "      --bg-color: #E8F0FE;\n",
              "      --fill-color: #1967D2;\n",
              "      --hover-bg-color: #E2EBFA;\n",
              "      --hover-fill-color: #174EA6;\n",
              "      --disabled-fill-color: #AAA;\n",
              "      --disabled-bg-color: #DDD;\n",
              "  }\n",
              "\n",
              "  [theme=dark] .colab-df-quickchart {\n",
              "      --bg-color: #3B4455;\n",
              "      --fill-color: #D2E3FC;\n",
              "      --hover-bg-color: #434B5C;\n",
              "      --hover-fill-color: #FFFFFF;\n",
              "      --disabled-bg-color: #3B4455;\n",
              "      --disabled-fill-color: #666;\n",
              "  }\n",
              "\n",
              "  .colab-df-quickchart {\n",
              "    background-color: var(--bg-color);\n",
              "    border: none;\n",
              "    border-radius: 50%;\n",
              "    cursor: pointer;\n",
              "    display: none;\n",
              "    fill: var(--fill-color);\n",
              "    height: 32px;\n",
              "    padding: 0;\n",
              "    width: 32px;\n",
              "  }\n",
              "\n",
              "  .colab-df-quickchart:hover {\n",
              "    background-color: var(--hover-bg-color);\n",
              "    box-shadow: 0 1px 2px rgba(60, 64, 67, 0.3), 0 1px 3px 1px rgba(60, 64, 67, 0.15);\n",
              "    fill: var(--button-hover-fill-color);\n",
              "  }\n",
              "\n",
              "  .colab-df-quickchart-complete:disabled,\n",
              "  .colab-df-quickchart-complete:disabled:hover {\n",
              "    background-color: var(--disabled-bg-color);\n",
              "    fill: var(--disabled-fill-color);\n",
              "    box-shadow: none;\n",
              "  }\n",
              "\n",
              "  .colab-df-spinner {\n",
              "    border: 2px solid var(--fill-color);\n",
              "    border-color: transparent;\n",
              "    border-bottom-color: var(--fill-color);\n",
              "    animation:\n",
              "      spin 1s steps(1) infinite;\n",
              "  }\n",
              "\n",
              "  @keyframes spin {\n",
              "    0% {\n",
              "      border-color: transparent;\n",
              "      border-bottom-color: var(--fill-color);\n",
              "      border-left-color: var(--fill-color);\n",
              "    }\n",
              "    20% {\n",
              "      border-color: transparent;\n",
              "      border-left-color: var(--fill-color);\n",
              "      border-top-color: var(--fill-color);\n",
              "    }\n",
              "    30% {\n",
              "      border-color: transparent;\n",
              "      border-left-color: var(--fill-color);\n",
              "      border-top-color: var(--fill-color);\n",
              "      border-right-color: var(--fill-color);\n",
              "    }\n",
              "    40% {\n",
              "      border-color: transparent;\n",
              "      border-right-color: var(--fill-color);\n",
              "      border-top-color: var(--fill-color);\n",
              "    }\n",
              "    60% {\n",
              "      border-color: transparent;\n",
              "      border-right-color: var(--fill-color);\n",
              "    }\n",
              "    80% {\n",
              "      border-color: transparent;\n",
              "      border-right-color: var(--fill-color);\n",
              "      border-bottom-color: var(--fill-color);\n",
              "    }\n",
              "    90% {\n",
              "      border-color: transparent;\n",
              "      border-bottom-color: var(--fill-color);\n",
              "    }\n",
              "  }\n",
              "</style>\n",
              "\n",
              "  <script>\n",
              "    async function quickchart(key) {\n",
              "      const quickchartButtonEl =\n",
              "        document.querySelector('#' + key + ' button');\n",
              "      quickchartButtonEl.disabled = true;  // To prevent multiple clicks.\n",
              "      quickchartButtonEl.classList.add('colab-df-spinner');\n",
              "      try {\n",
              "        const charts = await google.colab.kernel.invokeFunction(\n",
              "            'suggestCharts', [key], {});\n",
              "      } catch (error) {\n",
              "        console.error('Error during call to suggestCharts:', error);\n",
              "      }\n",
              "      quickchartButtonEl.classList.remove('colab-df-spinner');\n",
              "      quickchartButtonEl.classList.add('colab-df-quickchart-complete');\n",
              "    }\n",
              "    (() => {\n",
              "      let quickchartButtonEl =\n",
              "        document.querySelector('#df-f0b119ea-c9c1-4245-b326-13ec0a9fed09 button');\n",
              "      quickchartButtonEl.style.display =\n",
              "        google.colab.kernel.accessAllowed ? 'block' : 'none';\n",
              "    })();\n",
              "  </script>\n",
              "</div>\n",
              "    </div>\n",
              "  </div>\n"
            ]
          },
          "metadata": {},
          "execution_count": 14
        }
      ]
    },
    {
      "cell_type": "code",
      "source": [
        "train.shape, test.shape"
      ],
      "metadata": {
        "colab": {
          "base_uri": "https://localhost:8080/"
        },
        "id": "u7n7LPhoSF3C",
        "outputId": "eb14d25f-e9fb-4e83-f82c-31921ec3822c"
      },
      "execution_count": null,
      "outputs": [
        {
          "output_type": "execute_result",
          "data": {
            "text/plain": [
              "((2637, 2), (660, 2))"
            ]
          },
          "metadata": {},
          "execution_count": 15
        }
      ]
    },
    {
      "cell_type": "markdown",
      "source": [
        "Image Data Generator"
      ],
      "metadata": {
        "id": "VlGGIwNDBPGU"
      }
    },
    {
      "cell_type": "code",
      "source": [
        "train_datagen = tf.keras.preprocessing.image.ImageDataGenerator(rescale=1/255,\n",
        "                                                                horizontal_flip=True)\n",
        "\n",
        "train_generator = train_datagen.flow_from_dataframe(dataframe=train,\n",
        "                                                    directory='/content/train',\n",
        "                                                    target_size=(128, 128),\n",
        "                                                    class_mode='binary') #categorical\n",
        "\n",
        "test_datagen = tf.keras.preprocessing.image.ImageDataGenerator(rescale=1/255)\n",
        "\n",
        "test_generator = test_datagen.flow_from_dataframe(dataframe=test,\n",
        "                                                  directory='/content/test',\n",
        "                                                  target_size=(128, 128),\n",
        "                                                  class_mode='binary') #categorical"
      ],
      "metadata": {
        "colab": {
          "base_uri": "https://localhost:8080/"
        },
        "id": "oxvmO2YlAw-q",
        "outputId": "a809adb5-a840-4902-8d72-704b8775e460"
      },
      "execution_count": null,
      "outputs": [
        {
          "output_type": "stream",
          "name": "stdout",
          "text": [
            "Found 2637 validated image filenames belonging to 2 classes.\n",
            "Found 660 validated image filenames belonging to 2 classes.\n"
          ]
        }
      ]
    },
    {
      "cell_type": "markdown",
      "source": [
        "# Basic CNN model"
      ],
      "metadata": {
        "id": "7dm8PJcoD0cU"
      }
    },
    {
      "cell_type": "code",
      "source": [
        "tf.keras.backend.clear_session()\n",
        "model = tf.keras.Sequential([\n",
        "    tf.keras.layers.InputLayer(input_shape=(128, 128, 3)),\n",
        "    tf.keras.layers.Conv2D(filters=32, kernel_size=(3, 3), activation='relu'),\n",
        "    tf.keras.layers.MaxPooling2D(2, 2),\n",
        "    tf.keras.layers.Conv2D(filters=16, kernel_size=(3, 3), activation='relu'),\n",
        "    tf.keras.layers.MaxPooling2D(2, 2),\n",
        "    tf.keras.layers.Flatten(),\n",
        "    tf.keras.layers.Dense(16, activation='relu'),\n",
        "    tf.keras.layers.Dense(1, activation='sigmoid')\n",
        "])\n",
        "model.compile(optimizer='adam', loss='binary_crossentropy', metrics=['accuracy'])\n",
        "model.summary()"
      ],
      "metadata": {
        "colab": {
          "base_uri": "https://localhost:8080/"
        },
        "id": "ga5rICGSDfSY",
        "outputId": "c07946a0-d4e3-4bd6-fd8b-86adbf0e5e86"
      },
      "execution_count": null,
      "outputs": [
        {
          "output_type": "stream",
          "name": "stdout",
          "text": [
            "Model: \"sequential\"\n",
            "_________________________________________________________________\n",
            " Layer (type)                Output Shape              Param #   \n",
            "=================================================================\n",
            " conv2d (Conv2D)             (None, 126, 126, 32)      896       \n",
            "                                                                 \n",
            " max_pooling2d (MaxPooling2  (None, 63, 63, 32)        0         \n",
            " D)                                                              \n",
            "                                                                 \n",
            " conv2d_1 (Conv2D)           (None, 61, 61, 16)        4624      \n",
            "                                                                 \n",
            " max_pooling2d_1 (MaxPoolin  (None, 30, 30, 16)        0         \n",
            " g2D)                                                            \n",
            "                                                                 \n",
            " flatten (Flatten)           (None, 14400)             0         \n",
            "                                                                 \n",
            " dense (Dense)               (None, 16)                230416    \n",
            "                                                                 \n",
            " dense_1 (Dense)             (None, 1)                 17        \n",
            "                                                                 \n",
            "=================================================================\n",
            "Total params: 235953 (921.69 KB)\n",
            "Trainable params: 235953 (921.69 KB)\n",
            "Non-trainable params: 0 (0.00 Byte)\n",
            "_________________________________________________________________\n"
          ]
        }
      ]
    },
    {
      "cell_type": "code",
      "source": [
        "history = model.fit(train_generator, epochs=10, validation_data=test_generator)"
      ],
      "metadata": {
        "colab": {
          "base_uri": "https://localhost:8080/"
        },
        "id": "JDpWYKApE68k",
        "outputId": "c52da610-44cf-4920-adbf-91d6888f70f3"
      },
      "execution_count": null,
      "outputs": [
        {
          "output_type": "stream",
          "name": "stdout",
          "text": [
            "Epoch 1/10\n",
            "83/83 [==============================] - 19s 90ms/step - loss: 0.5350 - accuracy: 0.7122 - val_loss: 0.4436 - val_accuracy: 0.7879\n",
            "Epoch 2/10\n",
            "83/83 [==============================] - 8s 91ms/step - loss: 0.4488 - accuracy: 0.7766 - val_loss: 0.4090 - val_accuracy: 0.7939\n",
            "Epoch 3/10\n",
            "83/83 [==============================] - 6s 72ms/step - loss: 0.4126 - accuracy: 0.7952 - val_loss: 0.4216 - val_accuracy: 0.7712\n",
            "Epoch 4/10\n",
            "83/83 [==============================] - 7s 83ms/step - loss: 0.4191 - accuracy: 0.7941 - val_loss: 0.3698 - val_accuracy: 0.8227\n",
            "Epoch 5/10\n",
            "83/83 [==============================] - 7s 88ms/step - loss: 0.4092 - accuracy: 0.7876 - val_loss: 0.3988 - val_accuracy: 0.7894\n",
            "Epoch 6/10\n",
            "83/83 [==============================] - 7s 78ms/step - loss: 0.3737 - accuracy: 0.8157 - val_loss: 0.3692 - val_accuracy: 0.8091\n",
            "Epoch 7/10\n",
            "83/83 [==============================] - 7s 89ms/step - loss: 0.3641 - accuracy: 0.8172 - val_loss: 0.3820 - val_accuracy: 0.7879\n",
            "Epoch 8/10\n",
            "83/83 [==============================] - 6s 72ms/step - loss: 0.3686 - accuracy: 0.8191 - val_loss: 0.4021 - val_accuracy: 0.8121\n",
            "Epoch 9/10\n",
            "83/83 [==============================] - 7s 85ms/step - loss: 0.3543 - accuracy: 0.8267 - val_loss: 0.3777 - val_accuracy: 0.8045\n",
            "Epoch 10/10\n",
            "83/83 [==============================] - 6s 74ms/step - loss: 0.3455 - accuracy: 0.8343 - val_loss: 0.3616 - val_accuracy: 0.8152\n"
          ]
        }
      ]
    },
    {
      "cell_type": "code",
      "source": [
        "model.evaluate(test_generator)"
      ],
      "metadata": {
        "colab": {
          "base_uri": "https://localhost:8080/"
        },
        "id": "SQ_LyGmNFoKb",
        "outputId": "956da1aa-9df0-4c5a-84b6-93f8697fd0a7"
      },
      "execution_count": null,
      "outputs": [
        {
          "output_type": "stream",
          "name": "stdout",
          "text": [
            "21/21 [==============================] - 1s 56ms/step - loss: 0.3616 - accuracy: 0.8152\n"
          ]
        },
        {
          "output_type": "execute_result",
          "data": {
            "text/plain": [
              "[0.3616083264350891, 0.8151515126228333]"
            ]
          },
          "metadata": {},
          "execution_count": 20
        }
      ]
    },
    {
      "cell_type": "markdown",
      "source": [
        "# VGG 16"
      ],
      "metadata": {
        "id": "gkAG0S4FF24J"
      }
    },
    {
      "cell_type": "code",
      "source": [
        "from keras.applications.vgg16 import VGG16"
      ],
      "metadata": {
        "id": "b7Kmmi0g1doy"
      },
      "execution_count": null,
      "outputs": []
    },
    {
      "cell_type": "code",
      "source": [
        "tf.keras.backend.clear_session()\n",
        "\n",
        "image_size = 224\n",
        "\n",
        "train_datagen = tf.keras.preprocessing.image.ImageDataGenerator(rescale=1/255,\n",
        "                                                                horizontal_flip=True,\n",
        "                                                                fill_mode = 'nearest',\n",
        "                                                                rotation_range=40)\n",
        "\n",
        "train_generator = train_datagen.flow_from_dataframe(dataframe=train,\n",
        "                                                    directory='/content/train',\n",
        "                                                    target_size=(image_size, image_size),\n",
        "                                                    class_mode='binary') #categorical\n",
        "\n",
        "test_datagen = tf.keras.preprocessing.image.ImageDataGenerator(rescale=1/255)\n",
        "\n",
        "test_generator = test_datagen.flow_from_dataframe(dataframe=test,\n",
        "                                                  directory='/content/test',\n",
        "                                                  target_size=(image_size, image_size),\n",
        "                                                  class_mode='binary') #categorical\n",
        "\n",
        "weight_path = '/content/vgg16_weights_tf_dim_ordering_tf_kernels_notop.h5'\n",
        "vgg16_base_model = VGG16(weights=weight_path,\n",
        "                         include_top=False,\n",
        "                         input_shape=(image_size, image_size, 3))\n",
        "\n",
        "for layer in vgg16_base_model.layers:\n",
        "    layer.trainable = False\n",
        "\n",
        "vgg16_pretrained_model = tf.keras.Sequential([\n",
        "    vgg16_base_model,\n",
        "    tf.keras.layers.Flatten(),\n",
        "    tf.keras.layers.Dense(1, activation='sigmoid')\n",
        "])\n",
        "vgg16_pretrained_model.compile(optimizer='adam', loss='binary_crossentropy', metrics=['accuracy'])\n",
        "vgg16_pretrained_model.summary()"
      ],
      "metadata": {
        "colab": {
          "base_uri": "https://localhost:8080/"
        },
        "id": "lj0VDs6iF2cp",
        "outputId": "38227b09-0b41-443e-a736-fc6c561d22fc"
      },
      "execution_count": null,
      "outputs": [
        {
          "output_type": "stream",
          "name": "stdout",
          "text": [
            "Found 2637 validated image filenames belonging to 2 classes.\n",
            "Found 660 validated image filenames belonging to 2 classes.\n",
            "Model: \"sequential\"\n",
            "_________________________________________________________________\n",
            " Layer (type)                Output Shape              Param #   \n",
            "=================================================================\n",
            " vgg16 (Functional)          (None, 7, 7, 512)         14714688  \n",
            "                                                                 \n",
            " flatten (Flatten)           (None, 25088)             0         \n",
            "                                                                 \n",
            " dense (Dense)               (None, 1)                 25089     \n",
            "                                                                 \n",
            "=================================================================\n",
            "Total params: 14739777 (56.23 MB)\n",
            "Trainable params: 25089 (98.00 KB)\n",
            "Non-trainable params: 14714688 (56.13 MB)\n",
            "_________________________________________________________________\n"
          ]
        }
      ]
    },
    {
      "cell_type": "code",
      "source": [
        "callback = tf.keras.callbacks.EarlyStopping(monitor='loss', patience=3, verbose=1)\n",
        "history = vgg16_pretrained_model.fit(train_generator, epochs=10, validation_data=test_generator, callbacks=[callback])"
      ],
      "metadata": {
        "id": "q8GCYRWiNot0",
        "colab": {
          "base_uri": "https://localhost:8080/"
        },
        "outputId": "dae56c50-38d2-4b1e-98d3-37068c2570a7"
      },
      "execution_count": null,
      "outputs": [
        {
          "output_type": "stream",
          "name": "stdout",
          "text": [
            "Epoch 1/10\n",
            "83/83 [==============================] - 42s 491ms/step - loss: 0.4891 - accuracy: 0.7691 - val_loss: 0.3739 - val_accuracy: 0.8273\n",
            "Epoch 2/10\n",
            "83/83 [==============================] - 50s 608ms/step - loss: 0.3836 - accuracy: 0.8256 - val_loss: 0.3639 - val_accuracy: 0.8455\n",
            "Epoch 3/10\n",
            "83/83 [==============================] - 41s 489ms/step - loss: 0.3669 - accuracy: 0.8309 - val_loss: 0.3694 - val_accuracy: 0.8470\n",
            "Epoch 4/10\n",
            "83/83 [==============================] - 41s 490ms/step - loss: 0.3501 - accuracy: 0.8464 - val_loss: 0.3505 - val_accuracy: 0.8424\n",
            "Epoch 5/10\n",
            "83/83 [==============================] - 43s 514ms/step - loss: 0.3269 - accuracy: 0.8426 - val_loss: 0.3308 - val_accuracy: 0.8576\n",
            "Epoch 6/10\n",
            "83/83 [==============================] - 41s 491ms/step - loss: 0.3209 - accuracy: 0.8517 - val_loss: 0.3545 - val_accuracy: 0.8530\n",
            "Epoch 7/10\n",
            "83/83 [==============================] - 40s 486ms/step - loss: 0.3010 - accuracy: 0.8646 - val_loss: 0.3397 - val_accuracy: 0.8515\n",
            "Epoch 8/10\n",
            "83/83 [==============================] - 40s 485ms/step - loss: 0.2921 - accuracy: 0.8726 - val_loss: 0.3317 - val_accuracy: 0.8652\n",
            "Epoch 9/10\n",
            "83/83 [==============================] - 43s 518ms/step - loss: 0.3086 - accuracy: 0.8604 - val_loss: 0.3573 - val_accuracy: 0.8394\n",
            "Epoch 10/10\n",
            "83/83 [==============================] - 42s 504ms/step - loss: 0.2950 - accuracy: 0.8718 - val_loss: 0.3485 - val_accuracy: 0.8500\n"
          ]
        }
      ]
    },
    {
      "cell_type": "code",
      "source": [
        "vgg16_pretrained_model.evaluate(test_generator)"
      ],
      "metadata": {
        "id": "CjDzIDUlODZ2",
        "colab": {
          "base_uri": "https://localhost:8080/"
        },
        "outputId": "4df74af5-45a7-4459-90ae-572a134e16f1"
      },
      "execution_count": null,
      "outputs": [
        {
          "output_type": "stream",
          "name": "stdout",
          "text": [
            "21/21 [==============================] - 3s 126ms/step - loss: 0.3485 - accuracy: 0.8500\n"
          ]
        },
        {
          "output_type": "execute_result",
          "data": {
            "text/plain": [
              "[0.34854504466056824, 0.8500000238418579]"
            ]
          },
          "metadata": {},
          "execution_count": 53
        }
      ]
    },
    {
      "cell_type": "code",
      "source": [
        "tf.keras.backend.clear_session()\n",
        "\n",
        "image_size = 224\n",
        "\n",
        "train_datagen = tf.keras.preprocessing.image.ImageDataGenerator(rescale=1/255,\n",
        "                                                                horizontal_flip=True,\n",
        "                                                                fill_mode = 'nearest',\n",
        "                                                                rotation_range=40)\n",
        "\n",
        "train_generator = train_datagen.flow_from_directory('/content/train',\n",
        "                                                    target_size=(image_size, image_size),\n",
        "                                                    class_mode='binary') #categorical\n",
        "\n",
        "test_datagen = tf.keras.preprocessing.image.ImageDataGenerator(rescale=1/255)\n",
        "\n",
        "test_generator = test_datagen.flow_from_directory('/content/test',\n",
        "                                                    target_size=(image_size, image_size),\n",
        "                                                    class_mode='binary') #categorical\n",
        "\n",
        "weight_path = '/content/vgg16_weights_tf_dim_ordering_tf_kernels_notop.h5'\n",
        "vgg16_base_model = VGG16(weights=weight_path,\n",
        "                         include_top=False,\n",
        "                         input_shape=(image_size, image_size, 3))\n",
        "\n",
        "for layer in vgg16_base_model.layers:\n",
        "    layer.trainable = True\n",
        "\n",
        "vgg16_pretrained_model = tf.keras.Sequential([\n",
        "    vgg16_base_model,\n",
        "    tf.keras.layers.Flatten(),\n",
        "    tf.keras.layers.Dense(1, activation='sigmoid')\n",
        "])\n",
        "vgg16_pretrained_model.compile(optimizer='adam', loss='binary_crossentropy', metrics=['accuracy'])\n",
        "vgg16_pretrained_model.summary()\n",
        "history = vgg16_pretrained_model.fit(train_generator, epochs=10, validation_data=test_generator)\n",
        "vgg16_pretrained_model.evaluate(test_generator)"
      ],
      "metadata": {
        "id": "cgcNejOoN-kg",
        "colab": {
          "base_uri": "https://localhost:8080/"
        },
        "outputId": "1114ad4c-f58c-4020-805d-9cd85ce3dae0"
      },
      "execution_count": null,
      "outputs": [
        {
          "output_type": "stream",
          "name": "stdout",
          "text": [
            "Found 2637 images belonging to 2 classes.\n",
            "Found 660 images belonging to 2 classes.\n",
            "Model: \"sequential\"\n",
            "_________________________________________________________________\n",
            " Layer (type)                Output Shape              Param #   \n",
            "=================================================================\n",
            " vgg16 (Functional)          (None, 7, 7, 512)         14714688  \n",
            "                                                                 \n",
            " flatten (Flatten)           (None, 25088)             0         \n",
            "                                                                 \n",
            " dense (Dense)               (None, 1)                 25089     \n",
            "                                                                 \n",
            "=================================================================\n",
            "Total params: 14739777 (56.23 MB)\n",
            "Trainable params: 14739777 (56.23 MB)\n",
            "Non-trainable params: 0 (0.00 Byte)\n",
            "_________________________________________________________________\n",
            "Epoch 1/10\n",
            "83/83 [==============================] - 58s 622ms/step - loss: 1.8390 - accuracy: 0.5226 - val_loss: 0.7093 - val_accuracy: 0.5455\n",
            "Epoch 2/10\n",
            "83/83 [==============================] - 50s 604ms/step - loss: 0.6981 - accuracy: 0.5328 - val_loss: 0.5982 - val_accuracy: 0.5455\n",
            "Epoch 3/10\n",
            "83/83 [==============================] - 50s 596ms/step - loss: 0.6827 - accuracy: 0.4964 - val_loss: 0.6927 - val_accuracy: 0.5455\n",
            "Epoch 4/10\n",
            "83/83 [==============================] - 52s 621ms/step - loss: 0.6922 - accuracy: 0.5461 - val_loss: 0.6917 - val_accuracy: 0.5455\n",
            "Epoch 5/10\n",
            "83/83 [==============================] - 49s 588ms/step - loss: 0.6912 - accuracy: 0.5461 - val_loss: 0.6908 - val_accuracy: 0.5455\n",
            "Epoch 6/10\n",
            "83/83 [==============================] - 50s 597ms/step - loss: 0.6905 - accuracy: 0.5461 - val_loss: 0.6903 - val_accuracy: 0.5455\n",
            "Epoch 7/10\n",
            "83/83 [==============================] - 50s 591ms/step - loss: 0.6900 - accuracy: 0.5461 - val_loss: 0.6899 - val_accuracy: 0.5455\n",
            "Epoch 8/10\n",
            "83/83 [==============================] - 50s 596ms/step - loss: 0.6896 - accuracy: 0.5461 - val_loss: 0.6896 - val_accuracy: 0.5455\n",
            "Epoch 9/10\n",
            "83/83 [==============================] - 51s 609ms/step - loss: 0.6894 - accuracy: 0.5461 - val_loss: 0.6894 - val_accuracy: 0.5455\n",
            "Epoch 10/10\n",
            "83/83 [==============================] - 50s 606ms/step - loss: 0.6892 - accuracy: 0.5461 - val_loss: 0.6892 - val_accuracy: 0.5455\n",
            "21/21 [==============================] - 3s 121ms/step - loss: 0.6892 - accuracy: 0.5455\n"
          ]
        },
        {
          "output_type": "execute_result",
          "data": {
            "text/plain": [
              "[0.6892139315605164, 0.5454545617103577]"
            ]
          },
          "metadata": {},
          "execution_count": 54
        }
      ]
    },
    {
      "cell_type": "markdown",
      "source": [
        "# InceptionV3"
      ],
      "metadata": {
        "id": "SJxoWeQmPrpQ"
      }
    },
    {
      "cell_type": "code",
      "source": [
        "from keras.applications.inception_v3 import InceptionV3"
      ],
      "metadata": {
        "id": "F-HB8bVnPlfe"
      },
      "execution_count": null,
      "outputs": []
    },
    {
      "cell_type": "code",
      "source": [
        "tf.keras.backend.clear_session()\n",
        "\n",
        "image_size = 224\n",
        "\n",
        "train_datagen = tf.keras.preprocessing.image.ImageDataGenerator(rescale=1/255,\n",
        "                                                                horizontal_flip=True,\n",
        "                                                                fill_mode = 'nearest',\n",
        "                                                                rotation_range=40)\n",
        "\n",
        "train_generator = train_datagen.flow_from_dataframe(dataframe=train,\n",
        "                                                    directory='/content/train',\n",
        "                                                    target_size=(image_size, image_size),\n",
        "                                                    class_mode='binary') #categorical\n",
        "\n",
        "test_datagen = tf.keras.preprocessing.image.ImageDataGenerator(rescale=1/255)\n",
        "\n",
        "test_generator = test_datagen.flow_from_dataframe(dataframe=test,\n",
        "                                                  directory='/content/test',\n",
        "                                                  target_size=(image_size, image_size),\n",
        "                                                  class_mode='binary') #categorical"
      ],
      "metadata": {
        "colab": {
          "base_uri": "https://localhost:8080/"
        },
        "id": "kjyvA6KQPn3w",
        "outputId": "2886d65d-5906-4702-b11a-90e479c1d671"
      },
      "execution_count": null,
      "outputs": [
        {
          "output_type": "stream",
          "name": "stdout",
          "text": [
            "Found 2637 validated image filenames belonging to 2 classes.\n",
            "Found 660 validated image filenames belonging to 2 classes.\n"
          ]
        }
      ]
    },
    {
      "cell_type": "code",
      "source": [
        "weight_path = '/content/inception_v3_weights_tf_dim_ordering_tf_kernels_notop.h5'\n",
        "inception_base_model = InceptionV3(weights=weight_path,\n",
        "                                   include_top=False,\n",
        "                                   input_shape=(image_size, image_size, 3))\n",
        "\n",
        "for layer in inception_base_model.layers:\n",
        "    layer.trainable = False\n",
        "\n",
        "inception_pretrained_model = tf.keras.Sequential([\n",
        "    inception_base_model,\n",
        "    tf.keras.layers.Flatten(),\n",
        "    tf.keras.layers.Dense(1, activation='sigmoid')\n",
        "])\n",
        "inception_pretrained_model.compile(optimizer='adam', loss='binary_crossentropy', metrics=['accuracy'])\n",
        "inception_pretrained_model.summary()"
      ],
      "metadata": {
        "colab": {
          "base_uri": "https://localhost:8080/"
        },
        "id": "T2digbrHP2TH",
        "outputId": "877d35e6-d134-4908-8a97-2c2b7e4842f7"
      },
      "execution_count": null,
      "outputs": [
        {
          "output_type": "stream",
          "name": "stdout",
          "text": [
            "Model: \"sequential\"\n",
            "_________________________________________________________________\n",
            " Layer (type)                Output Shape              Param #   \n",
            "=================================================================\n",
            " inception_v3 (Functional)   (None, 5, 5, 2048)        21802784  \n",
            "                                                                 \n",
            " flatten (Flatten)           (None, 51200)             0         \n",
            "                                                                 \n",
            " dense (Dense)               (None, 1)                 51201     \n",
            "                                                                 \n",
            "=================================================================\n",
            "Total params: 21853985 (83.37 MB)\n",
            "Trainable params: 51201 (200.00 KB)\n",
            "Non-trainable params: 21802784 (83.17 MB)\n",
            "_________________________________________________________________\n"
          ]
        }
      ]
    },
    {
      "cell_type": "code",
      "source": [
        "history = inception_pretrained_model.fit(train_generator, epochs=10, validation_data=test_generator)"
      ],
      "metadata": {
        "id": "Yn_hsnoIYJur",
        "colab": {
          "base_uri": "https://localhost:8080/"
        },
        "outputId": "94f67d05-4817-48bc-d9b6-e0e5a8a1cbd7"
      },
      "execution_count": null,
      "outputs": [
        {
          "output_type": "stream",
          "name": "stdout",
          "text": [
            "Epoch 1/10\n",
            "83/83 [==============================] - 48s 524ms/step - loss: 1.1331 - accuracy: 0.7471 - val_loss: 0.5830 - val_accuracy: 0.8197\n",
            "Epoch 2/10\n",
            "83/83 [==============================] - 39s 470ms/step - loss: 0.7263 - accuracy: 0.7945 - val_loss: 0.7432 - val_accuracy: 0.8121\n",
            "Epoch 3/10\n",
            "83/83 [==============================] - 39s 468ms/step - loss: 0.6809 - accuracy: 0.8286 - val_loss: 0.8267 - val_accuracy: 0.7788\n",
            "Epoch 4/10\n",
            "83/83 [==============================] - 41s 490ms/step - loss: 0.6327 - accuracy: 0.8237 - val_loss: 0.6804 - val_accuracy: 0.8136\n",
            "Epoch 5/10\n",
            "83/83 [==============================] - 39s 472ms/step - loss: 0.5303 - accuracy: 0.8563 - val_loss: 0.7467 - val_accuracy: 0.8121\n",
            "Epoch 6/10\n",
            "83/83 [==============================] - 38s 460ms/step - loss: 0.5112 - accuracy: 0.8529 - val_loss: 0.8826 - val_accuracy: 0.7833\n",
            "Epoch 7/10\n",
            "83/83 [==============================] - 40s 486ms/step - loss: 0.4083 - accuracy: 0.8787 - val_loss: 0.6017 - val_accuracy: 0.8106\n",
            "Epoch 8/10\n",
            "83/83 [==============================] - 38s 464ms/step - loss: 0.4637 - accuracy: 0.8642 - val_loss: 1.0482 - val_accuracy: 0.7803\n",
            "Epoch 9/10\n",
            "83/83 [==============================] - 38s 464ms/step - loss: 0.6296 - accuracy: 0.8445 - val_loss: 0.6765 - val_accuracy: 0.8364\n",
            "Epoch 10/10\n",
            "83/83 [==============================] - 38s 461ms/step - loss: 0.4916 - accuracy: 0.8756 - val_loss: 0.9701 - val_accuracy: 0.8000\n"
          ]
        }
      ]
    },
    {
      "cell_type": "code",
      "source": [
        "inception_pretrained_model.evaluate(test_generator)"
      ],
      "metadata": {
        "id": "8X3rb-lBYKox",
        "colab": {
          "base_uri": "https://localhost:8080/"
        },
        "outputId": "0cf33855-1fc1-4c31-b640-462efca8b576"
      },
      "execution_count": null,
      "outputs": [
        {
          "output_type": "stream",
          "name": "stdout",
          "text": [
            "21/21 [==============================] - 5s 112ms/step - loss: 0.9701 - accuracy: 0.8000\n"
          ]
        },
        {
          "output_type": "execute_result",
          "data": {
            "text/plain": [
              "[0.9701110124588013, 0.800000011920929]"
            ]
          },
          "metadata": {},
          "execution_count": 69
        }
      ]
    },
    {
      "cell_type": "markdown",
      "source": [
        "# Xception"
      ],
      "metadata": {
        "id": "Tf9WOBIyb9X5"
      }
    },
    {
      "cell_type": "code",
      "source": [
        "from keras.applications.xception import Xception"
      ],
      "metadata": {
        "id": "D0igBQFTcC8A"
      },
      "execution_count": null,
      "outputs": []
    },
    {
      "cell_type": "code",
      "source": [
        "tf.keras.backend.clear_session()\n",
        "\n",
        "image_size = 299\n",
        "\n",
        "train_datagen = tf.keras.preprocessing.image.ImageDataGenerator(rescale=1/255,\n",
        "                                                                horizontal_flip=True,\n",
        "                                                                fill_mode = 'nearest',\n",
        "                                                                rotation_range=40)\n",
        "\n",
        "train_generator = train_datagen.flow_from_dataframe(dataframe=train,\n",
        "                                                    directory='/content/train',\n",
        "                                                    target_size=(image_size, image_size),\n",
        "                                                    class_mode='binary') #categorical\n",
        "\n",
        "test_datagen = tf.keras.preprocessing.image.ImageDataGenerator(rescale=1/255)\n",
        "\n",
        "test_generator = test_datagen.flow_from_dataframe(dataframe=test,\n",
        "                                                  directory='/content/test',\n",
        "                                                  target_size=(image_size, image_size),\n",
        "                                                  class_mode='binary') #categorical"
      ],
      "metadata": {
        "colab": {
          "base_uri": "https://localhost:8080/"
        },
        "id": "HlJWhEhEb9Oo",
        "outputId": "0862ad19-866e-4875-f5ab-dce8c1876608"
      },
      "execution_count": null,
      "outputs": [
        {
          "output_type": "stream",
          "name": "stdout",
          "text": [
            "Found 2637 validated image filenames belonging to 2 classes.\n",
            "Found 660 validated image filenames belonging to 2 classes.\n"
          ]
        }
      ]
    },
    {
      "cell_type": "code",
      "source": [
        "weight_path = '/content/xception_weights_tf_dim_ordering_tf_kernels_notop.h5'\n",
        "xception_base_model = Xception(weights=weight_path,\n",
        "                         include_top=False,\n",
        "                         input_shape=(image_size, image_size, 3))\n",
        "\n",
        "for layer in xception_base_model.layers:\n",
        "    layer.trainable = False\n",
        "\n",
        "xception_pretrained_model = tf.keras.Sequential([\n",
        "    xception_base_model,\n",
        "    tf.keras.layers.Flatten(),\n",
        "    tf.keras.layers.Dense(1, activation='sigmoid')\n",
        "])\n",
        "xception_pretrained_model.compile(optimizer='adam', loss='binary_crossentropy', metrics=['accuracy'])\n",
        "xception_pretrained_model.summary()"
      ],
      "metadata": {
        "colab": {
          "base_uri": "https://localhost:8080/"
        },
        "id": "BnlmgGSnYftS",
        "outputId": "86747270-0b2f-46b0-bec3-a61831e0f32f"
      },
      "execution_count": null,
      "outputs": [
        {
          "output_type": "stream",
          "name": "stdout",
          "text": [
            "Model: \"sequential\"\n",
            "_________________________________________________________________\n",
            " Layer (type)                Output Shape              Param #   \n",
            "=================================================================\n",
            " xception (Functional)       (None, 10, 10, 2048)      20861480  \n",
            "                                                                 \n",
            " flatten (Flatten)           (None, 204800)            0         \n",
            "                                                                 \n",
            " dense (Dense)               (None, 1)                 204801    \n",
            "                                                                 \n",
            "=================================================================\n",
            "Total params: 21066281 (80.36 MB)\n",
            "Trainable params: 204801 (800.00 KB)\n",
            "Non-trainable params: 20861480 (79.58 MB)\n",
            "_________________________________________________________________\n"
          ]
        }
      ]
    },
    {
      "cell_type": "code",
      "source": [
        "callback = tf.keras.callbacks.EarlyStopping(monitor='loss', patience=3, verbose=1)\n",
        "history = xception_pretrained_model.fit(train_generator, epochs=10, validation_data=test_generator, callbacks=callback)"
      ],
      "metadata": {
        "colab": {
          "base_uri": "https://localhost:8080/"
        },
        "id": "lbsZrbaDcTEg",
        "outputId": "47a31d43-fe8b-47ae-fcec-08ab5f5b5a08"
      },
      "execution_count": null,
      "outputs": [
        {
          "output_type": "stream",
          "name": "stdout",
          "text": [
            "Epoch 1/10\n",
            "83/83 [==============================] - 76s 866ms/step - loss: 1.3627 - accuracy: 0.7641 - val_loss: 0.8952 - val_accuracy: 0.8121\n",
            "Epoch 2/10\n",
            "83/83 [==============================] - 71s 854ms/step - loss: 0.8640 - accuracy: 0.8350 - val_loss: 0.8741 - val_accuracy: 0.8015\n",
            "Epoch 3/10\n",
            "83/83 [==============================] - 71s 855ms/step - loss: 0.9006 - accuracy: 0.8430 - val_loss: 1.2535 - val_accuracy: 0.7879\n",
            "Epoch 4/10\n",
            "83/83 [==============================] - 72s 857ms/step - loss: 0.8294 - accuracy: 0.8532 - val_loss: 1.0906 - val_accuracy: 0.8106\n",
            "Epoch 5/10\n",
            "83/83 [==============================] - 70s 838ms/step - loss: 1.0496 - accuracy: 0.8415 - val_loss: 1.6853 - val_accuracy: 0.7833\n",
            "Epoch 6/10\n",
            "83/83 [==============================] - 71s 849ms/step - loss: 0.7062 - accuracy: 0.8809 - val_loss: 1.0202 - val_accuracy: 0.8136\n",
            "Epoch 7/10\n",
            "83/83 [==============================] - 73s 884ms/step - loss: 0.6813 - accuracy: 0.8794 - val_loss: 1.1794 - val_accuracy: 0.8515\n",
            "Epoch 8/10\n",
            "83/83 [==============================] - 70s 848ms/step - loss: 0.6692 - accuracy: 0.8836 - val_loss: 1.1610 - val_accuracy: 0.8152\n",
            "Epoch 9/10\n",
            "83/83 [==============================] - 70s 841ms/step - loss: 0.6301 - accuracy: 0.8927 - val_loss: 1.2082 - val_accuracy: 0.8106\n",
            "Epoch 10/10\n",
            "83/83 [==============================] - 70s 847ms/step - loss: 0.4700 - accuracy: 0.9075 - val_loss: 1.3625 - val_accuracy: 0.7955\n"
          ]
        }
      ]
    },
    {
      "cell_type": "code",
      "source": [
        "xception_pretrained_model.evaluate(test_generator)"
      ],
      "metadata": {
        "colab": {
          "base_uri": "https://localhost:8080/"
        },
        "id": "QfsSdl8ScVWL",
        "outputId": "22b46771-e6a9-40f0-d09a-0fc534babcd4"
      },
      "execution_count": null,
      "outputs": [
        {
          "output_type": "stream",
          "name": "stdout",
          "text": [
            "21/21 [==============================] - 5s 218ms/step - loss: 1.3625 - accuracy: 0.7955\n"
          ]
        },
        {
          "output_type": "execute_result",
          "data": {
            "text/plain": [
              "[1.362510323524475, 0.7954545617103577]"
            ]
          },
          "metadata": {},
          "execution_count": 66
        }
      ]
    }
  ]
}