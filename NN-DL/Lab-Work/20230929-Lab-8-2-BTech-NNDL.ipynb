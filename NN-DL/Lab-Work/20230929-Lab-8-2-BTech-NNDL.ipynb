{
  "nbformat": 4,
  "nbformat_minor": 0,
  "metadata": {
    "colab": {
      "provenance": [],
      "authorship_tag": "ABX9TyMJPiNCvSyCViSrISBduiqm",
      "include_colab_link": true
    },
    "kernelspec": {
      "name": "python3",
      "display_name": "Python 3"
    },
    "language_info": {
      "name": "python"
    },
    "accelerator": "GPU"
  },
  "cells": [
    {
      "cell_type": "markdown",
      "metadata": {
        "id": "view-in-github",
        "colab_type": "text"
      },
      "source": [
        "<a href=\"https://colab.research.google.com/github/bilalProgTech/btech-nmims/blob/master/NN-DL/Lab-Work/20230929-Lab-8-2-BTech-NNDL.ipynb\" target=\"_parent\"><img src=\"https://colab.research.google.com/assets/colab-badge.svg\" alt=\"Open In Colab\"/></a>"
      ]
    },
    {
      "cell_type": "code",
      "execution_count": 1,
      "metadata": {
        "colab": {
          "base_uri": "https://localhost:8080/"
        },
        "id": "NlvWigSLv-Z2",
        "outputId": "b2bd6778-e2f7-42f7-8749-106164bff540"
      },
      "outputs": [
        {
          "output_type": "stream",
          "name": "stdout",
          "text": [
            "Warning: Your Kaggle API key is readable by other users on this system! To fix this, you can run 'chmod 600 /content/kaggle.json'\n",
            "Downloading skin-cancer-malignant-vs-benign.zip to /content\n",
            " 94% 305M/325M [00:01<00:00, 185MB/s]\n",
            "100% 325M/325M [00:01<00:00, 214MB/s]\n"
          ]
        }
      ],
      "source": [
        "import os\n",
        "os.environ['KAGGLE_CONFIG_DIR'] = '/content'\n",
        "!kaggle datasets download -d fanconic/skin-cancer-malignant-vs-benign"
      ]
    },
    {
      "cell_type": "code",
      "source": [
        "!unzip skin-cancer-malignant-vs-benign.zip"
      ],
      "metadata": {
        "id": "1PPVcyJhwhEx"
      },
      "execution_count": null,
      "outputs": []
    },
    {
      "cell_type": "code",
      "source": [
        "!pip install fastai==1.0.61"
      ],
      "metadata": {
        "id": "KkPbK_FXy45w"
      },
      "execution_count": null,
      "outputs": []
    },
    {
      "cell_type": "code",
      "source": [
        "import pandas as pd\n",
        "import numpy as np\n",
        "import tensorflow as tf\n",
        "\n",
        "from IPython.display import Image, display\n",
        "\n",
        "import matplotlib.pyplot as plt\n",
        "import seaborn as sns\n",
        "\n",
        "import warnings\n",
        "warnings.filterwarnings('ignore')"
      ],
      "metadata": {
        "id": "6D8rmyMDwiIm"
      },
      "execution_count": 4,
      "outputs": []
    },
    {
      "cell_type": "code",
      "source": [
        "from fastai.imports import *\n",
        "from fastai import *\n",
        "from fastai.vision import *"
      ],
      "metadata": {
        "id": "OZNcIWGuwr0W"
      },
      "execution_count": 5,
      "outputs": []
    },
    {
      "cell_type": "code",
      "source": [
        "tfms = get_transforms(do_flip = True,\n",
        "                      max_rotate = 40)\n",
        "\n",
        "data = ImageDataBunch.from_folder('/content/train',\n",
        "                                  valid_pct = 0.2,\n",
        "                                  bs = 32,\n",
        "                                  size = 256).normalize(imagenet_stats)"
      ],
      "metadata": {
        "id": "-5rGJqxUxnCO"
      },
      "execution_count": 6,
      "outputs": []
    },
    {
      "cell_type": "code",
      "source": [
        "learn_resnet101 = cnn_learner(data, models.resnet101, metrics=accuracy)\n",
        "learn_resnet101.fit(epochs = 10)"
      ],
      "metadata": {
        "id": "8eZXKPj3yQtQ",
        "colab": {
          "base_uri": "https://localhost:8080/",
          "height": 193
        },
        "outputId": "e3f0c4cf-4f26-47c6-b8c2-2be461d940ac"
      },
      "execution_count": null,
      "outputs": [
        {
          "output_type": "stream",
          "name": "stderr",
          "text": [
            "Downloading: \"https://download.pytorch.org/models/resnet101-63fe2227.pth\" to /root/.cache/torch/hub/checkpoints/resnet101-63fe2227.pth\n",
            "100%|██████████| 171M/171M [00:01<00:00, 143MB/s]\n"
          ]
        },
        {
          "output_type": "display_data",
          "data": {
            "text/plain": [
              "<IPython.core.display.HTML object>"
            ],
            "text/html": [
              "\n",
              "<style>\n",
              "    /* Turns off some styling */\n",
              "    progress {\n",
              "        /* gets rid of default border in Firefox and Opera. */\n",
              "        border: none;\n",
              "        /* Needs to be in here for Safari polyfill so background images work as expected. */\n",
              "        background-size: auto;\n",
              "    }\n",
              "    progress:not([value]), progress:not([value])::-webkit-progress-bar {\n",
              "        background: repeating-linear-gradient(45deg, #7e7e7e, #7e7e7e 10px, #5c5c5c 10px, #5c5c5c 20px);\n",
              "    }\n",
              "    .progress-bar-interrupted, .progress-bar-interrupted::-webkit-progress-bar {\n",
              "        background: #F44336;\n",
              "    }\n",
              "</style>\n"
            ]
          },
          "metadata": {}
        },
        {
          "output_type": "display_data",
          "data": {
            "text/plain": [
              "<IPython.core.display.HTML object>"
            ],
            "text/html": [
              "\n",
              "    <div>\n",
              "      <progress value='2' class='' max='10' style='width:300px; height:20px; vertical-align: middle;'></progress>\n",
              "      20.00% [2/10 01:14&lt;04:57]\n",
              "    </div>\n",
              "    \n",
              "<table border=\"1\" class=\"dataframe\">\n",
              "  <thead>\n",
              "    <tr style=\"text-align: left;\">\n",
              "      <th>epoch</th>\n",
              "      <th>train_loss</th>\n",
              "      <th>valid_loss</th>\n",
              "      <th>accuracy</th>\n",
              "      <th>time</th>\n",
              "    </tr>\n",
              "  </thead>\n",
              "  <tbody>\n",
              "    <tr>\n",
              "      <td>0</td>\n",
              "      <td>0.597524</td>\n",
              "      <td>0.331022</td>\n",
              "      <td>0.848197</td>\n",
              "      <td>00:43</td>\n",
              "    </tr>\n",
              "    <tr>\n",
              "      <td>1</td>\n",
              "      <td>0.375145</td>\n",
              "      <td>0.349595</td>\n",
              "      <td>0.838710</td>\n",
              "      <td>00:30</td>\n",
              "    </tr>\n",
              "  </tbody>\n",
              "</table><p>\n",
              "\n",
              "    <div>\n",
              "      <progress value='64' class='' max='65' style='width:300px; height:20px; vertical-align: middle;'></progress>\n",
              "      98.46% [64/65 00:27&lt;00:00 0.2782]\n",
              "    </div>\n",
              "    "
            ]
          },
          "metadata": {}
        }
      ]
    },
    {
      "cell_type": "code",
      "source": [
        "learn_resnet50 = cnn_learner(data, models.resnet50, metrics=accuracy)\n",
        "learn_resnet50.fit(epochs = 10)"
      ],
      "metadata": {
        "id": "FUJS-osl0G44"
      },
      "execution_count": null,
      "outputs": []
    },
    {
      "cell_type": "code",
      "source": [
        "learn_resnet152 = cnn_learner(data, models.resnet152, metrics=accuracy)\n",
        "learn_resnet152.fit(epochs = 10)"
      ],
      "metadata": {
        "id": "A8id922nBH45"
      },
      "execution_count": null,
      "outputs": []
    },
    {
      "cell_type": "code",
      "source": [
        "learn_densenet161 = cnn_learner(data, models.densenet161, metrics=accuracy)\n",
        "learn_densenet161.fit(epochs = 10)"
      ],
      "metadata": {
        "id": "fss9cpRM7rhk"
      },
      "execution_count": null,
      "outputs": []
    },
    {
      "cell_type": "code",
      "source": [
        "img = open_image('/content/dataset/single_prediction/cat_or_dog_1.jpg')\n",
        "learn_densenet161.predict(img)[0]"
      ],
      "metadata": {
        "id": "kCyuHg0hJTla"
      },
      "execution_count": null,
      "outputs": []
    },
    {
      "cell_type": "code",
      "source": [
        "img = open_image('/content/dataset/single_prediction/cat_or_dog_2.jpg')\n",
        "learn_densenet161.predict(img)[0]"
      ],
      "metadata": {
        "id": "DUGqdnYuNbno"
      },
      "execution_count": null,
      "outputs": []
    },
    {
      "cell_type": "code",
      "source": [
        "files = []\n",
        "target = []\n",
        "for dirname, _, filenames in os.walk('/content/test'):\n",
        "    for filename in filenames:\n",
        "        filepath = os.path.join(dirname, filename)\n",
        "        files.append(filepath)\n",
        "        target.append(filepath.split('/')[-2])\n",
        "test = pd.DataFrame({'files': files, 'target': target})\n",
        "test = test.sample(frac=1)\n",
        "test = test.reset_index(drop=True)\n",
        "test.head()"
      ],
      "metadata": {
        "id": "0Tgsi2UbNnWL"
      },
      "execution_count": null,
      "outputs": []
    },
    {
      "cell_type": "code",
      "source": [
        "def predict_cat_or_dog(model_learn, filepath):\n",
        "    img = open_image(filepath)\n",
        "    return model_learn.predict(img)[0]"
      ],
      "metadata": {
        "id": "U1r7PheVOUpB"
      },
      "execution_count": null,
      "outputs": []
    },
    {
      "cell_type": "code",
      "source": [
        "test['resnet50'] = test['files'].apply(lambda x: predict_cat_or_dog(learn_resnet50, x))\n",
        "test['resnet50'] = test['resnet50'].astype('str')"
      ],
      "metadata": {
        "id": "C3mpPSmPPMKB"
      },
      "execution_count": null,
      "outputs": []
    },
    {
      "cell_type": "code",
      "source": [
        "test.head()"
      ],
      "metadata": {
        "id": "Uq4pBudpPXpY"
      },
      "execution_count": null,
      "outputs": []
    },
    {
      "cell_type": "code",
      "source": [
        "test['densenet161'] = test['files'].apply(lambda x: predict_cat_or_dog(learn_densenet161, x))\n",
        "test['densenet161'] = test['densenet161'].astype('str')\n",
        "test.head()"
      ],
      "metadata": {
        "id": "2-esZntgPbcq"
      },
      "execution_count": null,
      "outputs": []
    },
    {
      "cell_type": "code",
      "source": [
        "from sklearn.metrics import accuracy_score, confusion_matrix"
      ],
      "metadata": {
        "id": "lpvS6hYjPsJh"
      },
      "execution_count": null,
      "outputs": []
    },
    {
      "cell_type": "code",
      "source": [
        "accuracy_score(test['target'], test['resnet50'])"
      ],
      "metadata": {
        "id": "ou8deKjpP0PB"
      },
      "execution_count": null,
      "outputs": []
    },
    {
      "cell_type": "code",
      "source": [
        "confusion_matrix(test['target'], test['resnet50'])"
      ],
      "metadata": {
        "id": "rzNOJtVYQBfS"
      },
      "execution_count": null,
      "outputs": []
    },
    {
      "cell_type": "code",
      "source": [
        "accuracy_score(test['target'], test['densenet161'])"
      ],
      "metadata": {
        "id": "wjLsMbJhRAd2"
      },
      "execution_count": null,
      "outputs": []
    },
    {
      "cell_type": "code",
      "source": [
        "confusion_matrix(test['target'], test['densenet161'])"
      ],
      "metadata": {
        "id": "MKFtAjLZQAKJ"
      },
      "execution_count": null,
      "outputs": []
    },
    {
      "cell_type": "code",
      "source": [
        "learn_vgg16 = cnn_learner(data, models.vgg16_bn, metrics=accuracy)\n",
        "learn_vgg16.fit(epochs = 10)"
      ],
      "metadata": {
        "id": "6zEsFSJMSR3J"
      },
      "execution_count": null,
      "outputs": []
    },
    {
      "cell_type": "code",
      "source": [
        "test['vgg16'] = test['files'].apply(lambda x: predict_cat_or_dog(learn_vgg16, x))\n",
        "test['vgg16'] = test['vgg16'].astype('str')\n",
        "test.head()"
      ],
      "metadata": {
        "id": "_zCJAw6-XSaY"
      },
      "execution_count": null,
      "outputs": []
    },
    {
      "cell_type": "code",
      "source": [
        "accuracy_score(test['target'], test['vgg16'])"
      ],
      "metadata": {
        "id": "U9NClHNaXbRY"
      },
      "execution_count": null,
      "outputs": []
    },
    {
      "cell_type": "code",
      "source": [
        "confusion_matrix(test['target'], test['vgg16'])"
      ],
      "metadata": {
        "id": "9l-oenVRYQSK"
      },
      "execution_count": null,
      "outputs": []
    }
  ]
}