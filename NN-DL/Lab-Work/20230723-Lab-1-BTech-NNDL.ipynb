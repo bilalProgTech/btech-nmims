{
  "nbformat": 4,
  "nbformat_minor": 0,
  "metadata": {
    "colab": {
      "provenance": []
    },
    "kernelspec": {
      "name": "python3",
      "display_name": "Python 3"
    },
    "language_info": {
      "name": "python"
    }
  },
  "cells": [
    {
      "cell_type": "code",
      "source": [
        "import tensorflow as tf\n",
        "import numpy as np"
      ],
      "metadata": {
        "id": "JNqCnrVZ1DM3"
      },
      "execution_count": null,
      "outputs": []
    },
    {
      "cell_type": "code",
      "source": [
        "perceptron = tf.keras.Sequential([\n",
        "      tf.keras.layers.InputLayer(input_shape=(1,)),\n",
        "      tf.keras.layers.Dense(1)\n",
        "])"
      ],
      "metadata": {
        "id": "3S3-qbCR1DJX"
      },
      "execution_count": null,
      "outputs": []
    },
    {
      "cell_type": "code",
      "source": [
        "perceptron.compile(optimizer='sgd', loss='mean_squared_error')\n",
        "perceptron.summary()"
      ],
      "metadata": {
        "id": "CJcQwlf31DGZ"
      },
      "execution_count": null,
      "outputs": []
    },
    {
      "cell_type": "code",
      "source": [
        "X = np.array([1, 2, 3, 4, 5, 6, 7, 8, 9, 10], dtype=float)\n",
        "y = np.array([3, 5, 7, 9, 11, 13, 15, 17, 19, 21], dtype=float)"
      ],
      "metadata": {
        "id": "P0fHviqa1DD0"
      },
      "execution_count": null,
      "outputs": []
    },
    {
      "cell_type": "code",
      "source": [
        "perceptron.fit(X, y, epochs=500)"
      ],
      "metadata": {
        "id": "wiUskDLD1DA9"
      },
      "execution_count": null,
      "outputs": []
    },
    {
      "cell_type": "code",
      "source": [
        "print(perceptron.predict([24]))"
      ],
      "metadata": {
        "id": "pn51sAf01C-O"
      },
      "execution_count": null,
      "outputs": []
    },
    {
      "cell_type": "code",
      "source": [
        "model = tf.keras.Sequential([\n",
        "                             tf.keras.layers.InputLayer(input_shape=(2, )),\n",
        "                             tf.keras.layers.Dense(3),\n",
        "                             tf.keras.layers.Dense(1, activation='sigmoid')])\n",
        "model.compile(optimizer='sgd', loss='binary_crossentropy')\n",
        "model.summary()"
      ],
      "metadata": {
        "id": "f3gRArec1C7h"
      },
      "execution_count": null,
      "outputs": []
    },
    {
      "cell_type": "code",
      "source": [
        "X = np.array([[1, 2], [2, 3], [2, 5], [3, 6], [4, 8], [5, 10], [6, 20]], dtype=float)\n",
        "y = np.array([0, 0, 0, 0, 1, 1, 1])"
      ],
      "metadata": {
        "id": "3vPo45Yz1C4q"
      },
      "execution_count": null,
      "outputs": []
    },
    {
      "cell_type": "code",
      "source": [
        "model.fit(X, y, epochs=500)"
      ],
      "metadata": {
        "id": "mn9-Xl9C1C16"
      },
      "execution_count": null,
      "outputs": []
    },
    {
      "cell_type": "code",
      "source": [
        "model.predict([[4, 9]])"
      ],
      "metadata": {
        "id": "abfIJPFD1CzH"
      },
      "execution_count": null,
      "outputs": []
    },
    {
      "cell_type": "code",
      "source": [
        "model = tf.keras.Sequential([\n",
        "                             tf.keras.layers.InputLayer(input_shape=(2, )),\n",
        "                             tf.keras.layers.Dense(3, activation='relu'),\n",
        "                             tf.keras.layers.Dense(1, activation='sigmoid')])\n",
        "model.compile(optimizer='sgd', loss='binary_crossentropy')\n",
        "model.summary()"
      ],
      "metadata": {
        "id": "nz3o-vXF1CwT"
      },
      "execution_count": null,
      "outputs": []
    },
    {
      "cell_type": "code",
      "source": [
        "model.fit(X, y, epochs=500)"
      ],
      "metadata": {
        "id": "tlS6mv-m1Ctp"
      },
      "execution_count": null,
      "outputs": []
    },
    {
      "cell_type": "code",
      "source": [
        "model.predict([[4, 9]])"
      ],
      "metadata": {
        "id": "7Ix1rZZd1CrQ"
      },
      "execution_count": null,
      "outputs": []
    },
    {
      "cell_type": "code",
      "source": [
        "from sklearn.datasets import load_iris\n",
        "from sklearn.model_selection import train_test_split\n",
        "from sklearn.preprocessing import OneHotEncoder\n",
        "from sklearn.metrics import accuracy_score"
      ],
      "metadata": {
        "id": "OaNXZ6Al84aA"
      },
      "execution_count": null,
      "outputs": []
    },
    {
      "cell_type": "code",
      "source": [
        "iris_data = load_iris()"
      ],
      "metadata": {
        "id": "nY5hyg3O84Wm"
      },
      "execution_count": null,
      "outputs": []
    },
    {
      "cell_type": "code",
      "source": [
        "X = iris_data.data\n",
        "y_ = iris_data.target.reshape(-1, 1)"
      ],
      "metadata": {
        "id": "OGLCQiOl84T6"
      },
      "execution_count": null,
      "outputs": []
    },
    {
      "cell_type": "code",
      "source": [
        "encoder = OneHotEncoder(sparse=False)\n",
        "y = encoder.fit_transform(y_)\n",
        "y"
      ],
      "metadata": {
        "id": "4mjClme584Ox"
      },
      "execution_count": null,
      "outputs": []
    },
    {
      "cell_type": "code",
      "source": [
        "x_train, x_test, y_train, y_test = train_test_split(X, y, test_size=0.20)"
      ],
      "metadata": {
        "id": "H6ljn7d184MM"
      },
      "execution_count": null,
      "outputs": []
    },
    {
      "cell_type": "code",
      "source": [
        "model = tf.keras.Sequential([\n",
        "                             tf.keras.layers.InputLayer(input_shape=(4, )),\n",
        "                             tf.keras.layers.Dense(10, activation='relu'),\n",
        "                             tf.keras.layers.Dropout(0.50),\n",
        "                             tf.keras.layers.Dense(3, activation='softmax')])\n",
        "model.compile(optimizer=tf.keras.optimizers.SGD(learning_rate=0.006),\n",
        "              loss='categorical_crossentropy', metrics=['accuracy'])\n",
        "model.summary()"
      ],
      "metadata": {
        "id": "SGU8Q1t_84Jj"
      },
      "execution_count": null,
      "outputs": []
    },
    {
      "cell_type": "code",
      "source": [
        "history = model.fit(x_train, y_train, epochs=100)"
      ],
      "metadata": {
        "id": "N5yc2Ys384HR"
      },
      "execution_count": null,
      "outputs": []
    },
    {
      "cell_type": "code",
      "source": [
        "import matplotlib.pyplot as plt\n",
        "%matplotlib inline"
      ],
      "metadata": {
        "id": "XsaFheOGEJHa"
      },
      "execution_count": null,
      "outputs": []
    },
    {
      "cell_type": "code",
      "source": [
        "plt.plot(range(100), history.history['loss'], label='Loss')\n",
        "plt.plot(range(100), history.history['accuracy'], label='Accuracy')\n",
        "plt.legend()\n",
        "plt.show()"
      ],
      "metadata": {
        "id": "2MTBhhwTEJAj"
      },
      "execution_count": null,
      "outputs": []
    },
    {
      "cell_type": "code",
      "source": [
        "model.evaluate(x_test, y_test)"
      ],
      "metadata": {
        "id": "Rko5CsZ_EI9j"
      },
      "execution_count": null,
      "outputs": []
    },
    {
      "cell_type": "code",
      "source": [
        "model.predict(x_test)"
      ],
      "metadata": {
        "id": "zj8pggVAEI6q"
      },
      "execution_count": null,
      "outputs": []
    },
    {
      "cell_type": "code",
      "source": [
        "pred_test = model.predict(x_test)\n",
        "pred_test = np.argmax(pred_test, axis=1)"
      ],
      "metadata": {
        "id": "2HVtDppFB-Lv"
      },
      "execution_count": null,
      "outputs": []
    },
    {
      "cell_type": "code",
      "source": [
        "accuracy_score(np.argmax(y_test, axis=1), pred_test)"
      ],
      "metadata": {
        "id": "5GDv26zyB-Fv"
      },
      "execution_count": null,
      "outputs": []
    }
  ]
}